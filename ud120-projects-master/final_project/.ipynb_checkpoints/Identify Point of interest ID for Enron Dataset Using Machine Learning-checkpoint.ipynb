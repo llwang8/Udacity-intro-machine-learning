{
 "cells": [
  {
   "cell_type": "markdown",
   "metadata": {},
   "source": [
    "# Identifying Fraud at Enron Using Emails and Financial Data\n",
    "\n",
    "\n",
    "## Udacity Course - Intro to Machine Learning Final Project\n",
    "\n",
    "\n",
    "### Project Introduction\n",
    "\n",
    "<p>\n",
    "<div style=\"background-color:#F0F0F0 \">In 2000, Enron was one of the largest companies in the United States. By 2002, it had collapsed into bankruptcy due to widespread corporate fraud. In the resulting Federal investigation, there was a significant amount of typically confidential information entered into public record, including tens of thousands of emails and detailed financial data for top executives. \n",
    "<p><p>\n",
    "For this project, predictive models were built using scikit learn, numpy, and pandas modules in Python. The target of the predictions were persons-of-interest (POI’s) who were ‘individuals who were indicted, reached a settlement, or plea deal with the government, or testified in exchange for prosecution immunity.’ Financial compensation data and aggregate email statistics from the Enron Corpus were used as features for prediction.\n",
    "<p>\n",
    "The goal of this project wass the build a prediction model to identify persons-of-interest (POI’s.) </div>\n"
   ]
  },
  {
   "cell_type": "markdown",
   "metadata": {},
   "source": [
    "### Understanding the Dataset and Question"
   ]
  },
  {
   "cell_type": "markdown",
   "metadata": {},
   "source": [
    "#### Data Exploration (related mini-project: Lesson 5)\n",
    "\n",
    "<p>\n",
    "<div style=\"background-color:#f0f0f0\">Student response addresses the most important characteristics of the dataset and uses these characteristics to inform their analysis. \n",
    "<p><p>\n",
    "Important characteristics include:\n",
    "    Total number of data points\n",
    "    Allocation across classes (POI/non-POI)\n",
    "    Number of features used\n",
    "    Are there features with many missing values? etc.</div>"
   ]
  },
  {
   "cell_type": "code",
   "execution_count": 87,
   "metadata": {
    "collapsed": false
   },
   "outputs": [],
   "source": [
    "# import libraries\n",
    "import sys\n",
    "import pickle\n",
    "import numpy as np\n",
    "import pandas as pd\n",
    "import sklearn\n",
    "#from ggplot import *\n",
    "import matplotlib as plt\n",
    "%matplotlib inline\n",
    "\n",
    "sys.path.append(\"../tools/\")\n",
    "import tester\n",
    "\n",
    "from feature_format import featureFormat, targetFeatureSplit\n",
    "from tester import test_classifier, dump_classifier_and_data\n"
   ]
  },
  {
   "cell_type": "code",
   "execution_count": 2,
   "metadata": {
    "collapsed": false
   },
   "outputs": [],
   "source": [
    "# features_list is a list of strings, each of which is a feature name.\n",
    "# The first feature must be \"poi\".\n",
    "features_list = ['poi', 'salary', 'to_messages', 'deferral_payments', 'total_payments', \n",
    "                 'loan_advances', 'bonus', 'restricted_stock_deferred', \n",
    "                 'deferred_income', 'total_stock_value', 'expenses', 'from_poi_to_this_person', \n",
    "                 'exercised_stock_options', 'from_messages', 'other', 'from_this_person_to_poi', \n",
    "                 'long_term_incentive', 'shared_receipt_with_poi', 'restricted_stock', 'director_fees'] \n",
    "\n",
    "### Load the dictionary containing the dataset\n",
    "with open(\"final_project_dataset_modified.pkl\", \"r\") as data_file:\n",
    "    enron_dict = pickle.load(data_file)\n",
    "    \n",
    "enron_dict['METTS MARK'].keys()\n",
    "\n",
    "f = open('poi_names.txt', 'r')\n"
   ]
  },
  {
   "cell_type": "markdown",
   "metadata": {},
   "source": [
    "The features in the data fall into three major types, namely financial features, email features and POI labels.\n",
    "\n",
    "financial features: ['salary', 'deferral_payments', 'total_payments', 'loan_advances', 'bonus', 'restricted_stock_deferred', 'deferred_income', 'total_stock_value', 'expenses', 'exercised_stock_options', 'other', 'long_term_incentive', 'restricted_stock', 'director_fees'] (all units are in US dollars)\n",
    "\n",
    "email features: ['to_messages', 'email_address', 'from_poi_to_this_person', 'from_messages', 'from_this_person_to_poi', 'shared_receipt_with_poi'] (units are generally number of emails messages; notable exception is ‘email_address’, which is a text string)\n",
    "\n",
    "POI label: [‘poi’] (boolean, represented as integer)\n",
    "\n",
    "I'm going to try to use all features, filter them and choose the best."
   ]
  },
  {
   "cell_type": "code",
   "execution_count": 3,
   "metadata": {
    "collapsed": false
   },
   "outputs": [
    {
     "name": "stdout",
     "output_type": "stream",
     "text": [
      "0          METTS MARK\n",
      "1       BAXTER JOHN C\n",
      "2      ELLIOTT STEVEN\n",
      "3    CORDES WILLIAM R\n",
      "4      HANNON KEVIN P\n",
      "dtype: object\n",
      "     bonus deferral_payments deferred_income director_fees  \\\n",
      "0   600000               NaN             NaN           NaN   \n",
      "1  1200000           1295738        -1386055           NaN   \n",
      "2   350000               NaN         -400729           NaN   \n",
      "3      NaN               NaN             NaN           NaN   \n",
      "4  1500000               NaN        -3117011           NaN   \n",
      "\n",
      "              email_address exercised_stock_options expenses from_messages  \\\n",
      "0      mark.metts@enron.com                     NaN    94299            29   \n",
      "1                       NaN                 6680544    11200           NaN   \n",
      "2  steven.elliott@enron.com                 4890344    78552           NaN   \n",
      "3     bill.cordes@enron.com                  651850      NaN            12   \n",
      "4    kevin.hannon@enron.com                 5538001    34039            32   \n",
      "\n",
      "  from_poi_to_this_person from_this_person_to_poi        ...         \\\n",
      "0                      38                       1        ...          \n",
      "1                     NaN                     NaN        ...          \n",
      "2                     NaN                     NaN        ...          \n",
      "3                      10                       0        ...          \n",
      "4                      32                      21        ...          \n",
      "\n",
      "  long_term_incentive    other    poi restricted_stock  \\\n",
      "0                 NaN     1740  False           585062   \n",
      "1             1586055  2660303  False          3942714   \n",
      "2                 NaN    12961  False          1788391   \n",
      "3                 NaN      NaN  False           386335   \n",
      "4             1617011    11350   True           853064   \n",
      "\n",
      "  restricted_stock_deferred  salary shared_receipt_with_poi to_messages  \\\n",
      "0                       NaN  365788                     702         807   \n",
      "1                       NaN  267102                     NaN         NaN   \n",
      "2                       NaN  170941                     NaN         NaN   \n",
      "3                       NaN     NaN                      58         764   \n",
      "4                       NaN  243293                    1035        1045   \n",
      "\n",
      "  total_payments total_stock_value  \n",
      "0        1061827            585062  \n",
      "1        5634343          10623258  \n",
      "2         211725           6678735  \n",
      "3            NaN           1038185  \n",
      "4         288682           6391065  \n",
      "\n",
      "[5 rows x 21 columns]\n"
     ]
    }
   ],
   "source": [
    "# Change data dictionary to pandas DataFrame\n",
    "df = pd.DataFrame.from_records(list(enron_dict.values()))\n",
    "persons = pd.Series(list(enron_dict.keys()))\n",
    "\n",
    "print persons.head()\n",
    "print df.head()"
   ]
  },
  {
   "cell_type": "code",
   "execution_count": 4,
   "metadata": {
    "collapsed": false
   },
   "outputs": [
    {
     "name": "stdout",
     "output_type": "stream",
     "text": [
      "<class 'pandas.core.frame.DataFrame'>\n",
      "RangeIndex: 143 entries, 0 to 142\n",
      "Data columns (total 21 columns):\n",
      "bonus                        143 non-null object\n",
      "deferral_payments            143 non-null object\n",
      "deferred_income              143 non-null object\n",
      "director_fees                143 non-null object\n",
      "email_address                143 non-null object\n",
      "exercised_stock_options      143 non-null object\n",
      "expenses                     143 non-null object\n",
      "from_messages                143 non-null object\n",
      "from_poi_to_this_person      143 non-null object\n",
      "from_this_person_to_poi      143 non-null object\n",
      "loan_advances                143 non-null object\n",
      "long_term_incentive          143 non-null object\n",
      "other                        143 non-null object\n",
      "poi                          143 non-null bool\n",
      "restricted_stock             143 non-null object\n",
      "restricted_stock_deferred    143 non-null object\n",
      "salary                       143 non-null object\n",
      "shared_receipt_with_poi      143 non-null object\n",
      "to_messages                  143 non-null object\n",
      "total_payments               143 non-null object\n",
      "total_stock_value            142 non-null object\n",
      "dtypes: bool(1), object(20)\n",
      "memory usage: 22.6+ KB\n"
     ]
    }
   ],
   "source": [
    "# dataframe dimension\n",
    "df.shape\n",
    "\n",
    "df.info()"
   ]
  },
  {
   "cell_type": "code",
   "execution_count": 5,
   "metadata": {
    "collapsed": false
   },
   "outputs": [
    {
     "name": "stdout",
     "output_type": "stream",
     "text": [
      "['METTS MARK', 'BAXTER JOHN C', 'ELLIOTT STEVEN', 'CORDES WILLIAM R', 'HANNON KEVIN P', 'MORDAUNT KRISTINA M', 'MEYER ROCKFORD G', 'MCMAHON JEFFREY', 'HORTON STANLEY C', 'PIPER GREGORY F', 'HUMPHREY GENE E', 'UMANOFF ADAM S', 'BLACHMAN JEREMY M', 'SUNDE MARTIN', 'GIBBS DANA R', 'LOWRY CHARLES P', 'COLWELL WESLEY', 'MULLER MARK S', 'JACKSON CHARLENE R', 'WESTFAHL RICHARD K', 'WALTERS GARETH W', 'WALLS JR ROBERT H', 'KITCHEN LOUISE', 'CHAN RONNIE', 'BELFER ROBERT', 'SHANKMAN JEFFREY A', 'WODRASKA JOHN', 'BERGSIEKER RICHARD P', 'URQUHART JOHN A', 'BIBI PHILIPPE A', 'RIEKER PAULA H', 'WHALEY DAVID A', 'BECK SALLY W', 'HAUG DAVID L', 'ECHOLS JOHN B', 'MENDELSOHN JOHN', 'HICKERSON GARY J', 'CLINE KENNETH W', 'LEWIS RICHARD', 'HAYES ROBERT E', 'MCCARTY DANNY J', 'KOPPER MICHAEL J', 'LEFF DANIEL P', 'LAVORATO JOHN J', 'BERBERIAN DAVID', 'DETMERING TIMOTHY J', 'WAKEHAM JOHN', 'POWERS WILLIAM', 'GOLD JOSEPH', 'BANNANTINE JAMES M', 'DUNCAN JOHN H', 'SHAPIRO RICHARD S', 'SHERRIFF JOHN R', 'SHELBY REX', 'LEMAISTRE CHARLES', 'DEFFNER JOSEPH M', 'KISHKILL JOSEPH G', 'WHALLEY LAWRENCE G', 'MCCONNELL MICHAEL S', 'PIRO JIM', 'DELAINEY DAVID W', 'SULLIVAN-SHAKLOVITZ COLLEEN', 'WROBEL BRUCE', 'LINDHOLM TOD A', 'MEYER JEROME J', 'BUTTS ROBERT H', 'OLSON CINDY K', 'MCDONALD REBECCA', 'CUMBERLAND MICHAEL S', 'GAHN ROBERT S', 'MCCLELLAN GEORGE', 'HERMANN ROBERT J', 'SCRIMSHAW MATTHEW', 'GATHMANN WILLIAM D', 'HAEDICKE MARK E', 'BOWEN JR RAYMOND M', 'GILLIS JOHN', 'FASTOW ANDREW S', 'FITZGERALD JAY L', 'MORAN MICHAEL P', 'REDMOND BRIAN L', 'BAZELIDES PHILIP J', 'BELDEN TIMOTHY N', 'DURAN WILLIAM D', 'THORN TERENCE H', 'FOY JOE', 'CALGER CHRISTOPHER F', 'RICE KENNETH D', 'KAMINSKI WINCENTY J', 'LOCKHART EUGENE E', 'COX DAVID', 'OVERDYKE JR JERE C', 'PEREIRA PAULO V. FERRAZ', 'STABLER FRANK', 'BLAKE JR. NORMAN P', 'SHERRICK JEFFREY B', 'PRENTICE JAMES', 'GRAY RODNEY', 'PICKERING MARK R', 'THE TRAVEL AGENCY IN THE PARK', 'NOLES JAMES L', 'KEAN STEVEN J', 'FOWLER PEGGY', 'WASAFF GEORGE', 'WHITE JR THOMAS E', 'CHRISTODOULOU DIOMEDES', 'ALLEN PHILLIP K', 'SHARP VICTORIA T', 'JAEDICKE ROBERT', 'WINOKUR JR. HERBERT S', 'BROWN MICHAEL', 'BADUM JAMES P', 'HUGHES JAMES A', 'REYNOLDS LAWRENCE', 'DIMICHELE RICHARD G', 'BHATNAGAR SANJAY', 'CARTER REBECCA C', 'BUCHANAN HAROLD G', 'YEAP SOON', 'MURRAY JULIA H', 'GARLAND C KEVIN', 'DODSON KEITH', 'YEAGER F SCOTT', 'HIRKO JOSEPH', 'DIETRICH JANET R', 'DERRICK JR. JAMES V', 'FREVERT MARK A', 'PAI LOU L', 'BAY FRANKLIN R', 'HAYSLETT RODERICK J', 'FUGH JOHN L', 'FALLON JAMES B', 'KOENIG MARK E', 'SAVAGE FRANK', 'IZZO LAWRENCE L', 'TILNEY ELIZABETH A', 'MARTIN AMANDA K', 'BUY RICHARD B', 'GRAMM WENDY L', 'CAUSEY RICHARD A', 'TAYLOR MITCHELL S', 'DONAHUE JR JEFFREY M', 'GLISAN JR BEN F']\n"
     ]
    }
   ],
   "source": [
    "print enron_dict.keys()"
   ]
  },
  {
   "cell_type": "code",
   "execution_count": 6,
   "metadata": {
    "collapsed": false
   },
   "outputs": [
    {
     "name": "stdout",
     "output_type": "stream",
     "text": [
      "Columns: ['bonus', 'deferral_payments', 'deferred_income', 'director_fees', 'email_address', 'exercised_stock_options', 'expenses', 'from_messages', 'from_poi_to_this_person', 'from_this_person_to_poi', 'loan_advances', 'long_term_incentive', 'other', 'poi', 'restricted_stock', 'restricted_stock_deferred', 'salary', 'shared_receipt_with_poi', 'to_messages', 'total_payments', 'total_stock_value']\n",
      "Shape: (143, 21)\n",
      "Number of POI in the dataset: 16\n",
      "Number of non-POI in the dataset: 127\n"
     ]
    }
   ],
   "source": [
    "print 'Columns:', list(df.columns.values)\n",
    "print 'Shape:', df.shape\n",
    "print 'Number of POI in the dataset:', (df['poi'] == 1).sum()\n",
    "print 'Number of non-POI in the dataset:', (df['poi'] == 0).sum()"
   ]
  },
  {
   "cell_type": "code",
   "execution_count": 7,
   "metadata": {
    "collapsed": false
   },
   "outputs": [
    {
     "name": "stdout",
     "output_type": "stream",
     "text": [
      "bonus                         64\n",
      "deferral_payments            106\n",
      "deferred_income               96\n",
      "director_fees                127\n",
      "email_address                 34\n",
      "exercised_stock_options       44\n",
      "expenses                      51\n",
      "from_messages                 59\n",
      "from_poi_to_this_person       59\n",
      "from_this_person_to_poi       59\n",
      "loan_advances                141\n",
      "long_term_incentive           80\n",
      "other                         53\n",
      "poi                            0\n",
      "restricted_stock              36\n",
      "restricted_stock_deferred    126\n",
      "salary                        51\n",
      "shared_receipt_with_poi       59\n",
      "to_messages                   59\n",
      "total_payments                21\n",
      "total_stock_value             20\n",
      "dtype: int64\n"
     ]
    }
   ],
   "source": [
    "# convert to numpy.nan\n",
    "df.replace(to_replace='NaN', value=np.nan, inplace=True)\n",
    "\n",
    "# count number of nan for columns\n",
    "print df.isnull().sum()\n"
   ]
  },
  {
   "cell_type": "markdown",
   "metadata": {},
   "source": [
    "There were 143 total records and 16 POIs in the original dataset.\n",
    "\n",
    "All features have null data."
   ]
  },
  {
   "cell_type": "markdown",
   "metadata": {
    "collapsed": true
   },
   "source": [
    "#### Outlier Investigation (related mini-project: Lesson 7)\n",
    "\n",
    "<p>\n",
    "<div style=\"background-color:#d9d9d9\">Student response identifies outlier(s) in the financial data, and explains how they are removed or otherwise handled.</div>"
   ]
  },
  {
   "cell_type": "code",
   "execution_count": 8,
   "metadata": {
    "collapsed": false
   },
   "outputs": [],
   "source": [
    "# remove column from df if null counter > 65\n",
    "for column, series in df.iteritems():\n",
    "    if series.isnull().sum() > 65:\n",
    "        df.drop(column, axis=1, inplace=True)\n",
    "\n",
    "# remove email address column\n",
    "if 'email_address' in list(df.columns.values):\n",
    "    df.drop('email_address', axis=1, inplace=True)"
   ]
  },
  {
   "cell_type": "code",
   "execution_count": 9,
   "metadata": {
    "collapsed": false
   },
   "outputs": [
    {
     "name": "stdout",
     "output_type": "stream",
     "text": [
      "<class 'pandas.core.frame.DataFrame'>\n",
      "RangeIndex: 143 entries, 0 to 142\n",
      "Data columns (total 14 columns):\n",
      "bonus                      79 non-null float64\n",
      "exercised_stock_options    99 non-null float64\n",
      "expenses                   92 non-null float64\n",
      "from_messages              84 non-null float64\n",
      "from_poi_to_this_person    84 non-null float64\n",
      "from_this_person_to_poi    84 non-null float64\n",
      "other                      90 non-null float64\n",
      "poi                        143 non-null bool\n",
      "restricted_stock           107 non-null float64\n",
      "salary                     92 non-null float64\n",
      "shared_receipt_with_poi    84 non-null float64\n",
      "to_messages                84 non-null float64\n",
      "total_payments             122 non-null float64\n",
      "total_stock_value          123 non-null float64\n",
      "dtypes: bool(1), float64(13)\n",
      "memory usage: 14.7 KB\n"
     ]
    }
   ],
   "source": [
    "df.info()"
   ]
  },
  {
   "cell_type": "code",
   "execution_count": 10,
   "metadata": {
    "collapsed": false
   },
   "outputs": [
    {
     "name": "stdout",
     "output_type": "stream",
     "text": [
      "bonus                      0\n",
      "exercised_stock_options    0\n",
      "expenses                   0\n",
      "from_messages              0\n",
      "from_poi_to_this_person    0\n",
      "from_this_person_to_poi    0\n",
      "other                      0\n",
      "poi                        0\n",
      "restricted_stock           0\n",
      "salary                     0\n",
      "shared_receipt_with_poi    0\n",
      "to_messages                0\n",
      "total_payments             0\n",
      "total_stock_value          0\n",
      "dtype: int64\n",
      "       bonus  exercised_stock_options  expenses  from_messages  \\\n",
      "0   600000.0                      0.0   94299.0           29.0   \n",
      "1  1200000.0                6680544.0   11200.0            0.0   \n",
      "2   350000.0                4890344.0   78552.0            0.0   \n",
      "3        0.0                 651850.0       0.0           12.0   \n",
      "4  1500000.0                5538001.0   34039.0           32.0   \n",
      "\n",
      "   from_poi_to_this_person  from_this_person_to_poi      other    poi  \\\n",
      "0                     38.0                      1.0     1740.0  False   \n",
      "1                      0.0                      0.0  2660303.0  False   \n",
      "2                      0.0                      0.0    12961.0  False   \n",
      "3                     10.0                      0.0        0.0  False   \n",
      "4                     32.0                     21.0    11350.0   True   \n",
      "\n",
      "   restricted_stock    salary  shared_receipt_with_poi  to_messages  \\\n",
      "0          585062.0  365788.0                    702.0        807.0   \n",
      "1         3942714.0  267102.0                      0.0          0.0   \n",
      "2         1788391.0  170941.0                      0.0          0.0   \n",
      "3          386335.0       0.0                     58.0        764.0   \n",
      "4          853064.0  243293.0                   1035.0       1045.0   \n",
      "\n",
      "   total_payments  total_stock_value  \n",
      "0       1061827.0           585062.0  \n",
      "1       5634343.0         10623258.0  \n",
      "2        211725.0          6678735.0  \n",
      "3             0.0          1038185.0  \n",
      "4        288682.0          6391065.0  \n"
     ]
    },
    {
     "data": {
      "text/html": [
       "<div>\n",
       "<table border=\"1\" class=\"dataframe\">\n",
       "  <thead>\n",
       "    <tr style=\"text-align: right;\">\n",
       "      <th></th>\n",
       "      <th>bonus</th>\n",
       "      <th>exercised_stock_options</th>\n",
       "      <th>expenses</th>\n",
       "      <th>from_messages</th>\n",
       "      <th>from_poi_to_this_person</th>\n",
       "      <th>from_this_person_to_poi</th>\n",
       "      <th>other</th>\n",
       "      <th>restricted_stock</th>\n",
       "      <th>salary</th>\n",
       "      <th>shared_receipt_with_poi</th>\n",
       "      <th>to_messages</th>\n",
       "      <th>total_payments</th>\n",
       "      <th>total_stock_value</th>\n",
       "    </tr>\n",
       "  </thead>\n",
       "  <tbody>\n",
       "    <tr>\n",
       "      <th>count</th>\n",
       "      <td>1.430000e+02</td>\n",
       "      <td>1.430000e+02</td>\n",
       "      <td>143.000000</td>\n",
       "      <td>143.000000</td>\n",
       "      <td>143.000000</td>\n",
       "      <td>143.000000</td>\n",
       "      <td>1.430000e+02</td>\n",
       "      <td>1.430000e+02</td>\n",
       "      <td>1.430000e+02</td>\n",
       "      <td>143.000000</td>\n",
       "      <td>143.000000</td>\n",
       "      <td>1.430000e+02</td>\n",
       "      <td>1.430000e+02</td>\n",
       "    </tr>\n",
       "    <tr>\n",
       "      <th>mean</th>\n",
       "      <td>5.926127e+05</td>\n",
       "      <td>1.715504e+06</td>\n",
       "      <td>34719.447552</td>\n",
       "      <td>365.118881</td>\n",
       "      <td>37.552448</td>\n",
       "      <td>24.475524</td>\n",
       "      <td>2.267385e+05</td>\n",
       "      <td>7.235235e+05</td>\n",
       "      <td>1.714731e+05</td>\n",
       "      <td>676.384615</td>\n",
       "      <td>1191.972028</td>\n",
       "      <td>1.489942e+06</td>\n",
       "      <td>2.404233e+06</td>\n",
       "    </tr>\n",
       "    <tr>\n",
       "      <th>std</th>\n",
       "      <td>1.036924e+06</td>\n",
       "      <td>3.694149e+06</td>\n",
       "      <td>45235.547286</td>\n",
       "      <td>1455.675655</td>\n",
       "      <td>74.148184</td>\n",
       "      <td>80.080666</td>\n",
       "      <td>7.552178e+05</td>\n",
       "      <td>1.571184e+06</td>\n",
       "      <td>1.660404e+05</td>\n",
       "      <td>1066.923179</td>\n",
       "      <td>2223.860300</td>\n",
       "      <td>2.386745e+06</td>\n",
       "      <td>4.422592e+06</td>\n",
       "    </tr>\n",
       "    <tr>\n",
       "      <th>min</th>\n",
       "      <td>0.000000e+00</td>\n",
       "      <td>0.000000e+00</td>\n",
       "      <td>0.000000</td>\n",
       "      <td>0.000000</td>\n",
       "      <td>0.000000</td>\n",
       "      <td>0.000000</td>\n",
       "      <td>0.000000e+00</td>\n",
       "      <td>-2.604490e+06</td>\n",
       "      <td>0.000000e+00</td>\n",
       "      <td>0.000000</td>\n",
       "      <td>0.000000</td>\n",
       "      <td>0.000000e+00</td>\n",
       "      <td>-4.409300e+04</td>\n",
       "    </tr>\n",
       "    <tr>\n",
       "      <th>25%</th>\n",
       "      <td>0.000000e+00</td>\n",
       "      <td>0.000000e+00</td>\n",
       "      <td>0.000000</td>\n",
       "      <td>0.000000</td>\n",
       "      <td>0.000000</td>\n",
       "      <td>0.000000</td>\n",
       "      <td>0.000000e+00</td>\n",
       "      <td>0.000000e+00</td>\n",
       "      <td>0.000000e+00</td>\n",
       "      <td>0.000000</td>\n",
       "      <td>0.000000</td>\n",
       "      <td>8.929250e+04</td>\n",
       "      <td>2.148255e+05</td>\n",
       "    </tr>\n",
       "    <tr>\n",
       "      <th>50%</th>\n",
       "      <td>2.500000e+05</td>\n",
       "      <td>6.014380e+05</td>\n",
       "      <td>17355.000000</td>\n",
       "      <td>16.000000</td>\n",
       "      <td>1.000000</td>\n",
       "      <td>0.000000</td>\n",
       "      <td>8.910000e+02</td>\n",
       "      <td>3.466630e+05</td>\n",
       "      <td>2.061210e+05</td>\n",
       "      <td>91.000000</td>\n",
       "      <td>266.000000</td>\n",
       "      <td>9.114530e+05</td>\n",
       "      <td>9.543540e+05</td>\n",
       "    </tr>\n",
       "    <tr>\n",
       "      <th>75%</th>\n",
       "      <td>8.000000e+05</td>\n",
       "      <td>1.636136e+06</td>\n",
       "      <td>52688.500000</td>\n",
       "      <td>50.500000</td>\n",
       "      <td>39.500000</td>\n",
       "      <td>12.500000</td>\n",
       "      <td>1.492040e+05</td>\n",
       "      <td>6.801640e+05</td>\n",
       "      <td>2.670975e+05</td>\n",
       "      <td>869.000000</td>\n",
       "      <td>1504.000000</td>\n",
       "      <td>1.858492e+06</td>\n",
       "      <td>2.217787e+06</td>\n",
       "    </tr>\n",
       "    <tr>\n",
       "      <th>max</th>\n",
       "      <td>8.000000e+06</td>\n",
       "      <td>3.076606e+07</td>\n",
       "      <td>228763.000000</td>\n",
       "      <td>14368.000000</td>\n",
       "      <td>528.000000</td>\n",
       "      <td>609.000000</td>\n",
       "      <td>7.427621e+06</td>\n",
       "      <td>1.384707e+07</td>\n",
       "      <td>1.060932e+06</td>\n",
       "      <td>5521.000000</td>\n",
       "      <td>15149.000000</td>\n",
       "      <td>1.725253e+07</td>\n",
       "      <td>3.076606e+07</td>\n",
       "    </tr>\n",
       "  </tbody>\n",
       "</table>\n",
       "</div>"
      ],
      "text/plain": [
       "              bonus  exercised_stock_options       expenses  from_messages  \\\n",
       "count  1.430000e+02             1.430000e+02     143.000000     143.000000   \n",
       "mean   5.926127e+05             1.715504e+06   34719.447552     365.118881   \n",
       "std    1.036924e+06             3.694149e+06   45235.547286    1455.675655   \n",
       "min    0.000000e+00             0.000000e+00       0.000000       0.000000   \n",
       "25%    0.000000e+00             0.000000e+00       0.000000       0.000000   \n",
       "50%    2.500000e+05             6.014380e+05   17355.000000      16.000000   \n",
       "75%    8.000000e+05             1.636136e+06   52688.500000      50.500000   \n",
       "max    8.000000e+06             3.076606e+07  228763.000000   14368.000000   \n",
       "\n",
       "       from_poi_to_this_person  from_this_person_to_poi         other  \\\n",
       "count               143.000000               143.000000  1.430000e+02   \n",
       "mean                 37.552448                24.475524  2.267385e+05   \n",
       "std                  74.148184                80.080666  7.552178e+05   \n",
       "min                   0.000000                 0.000000  0.000000e+00   \n",
       "25%                   0.000000                 0.000000  0.000000e+00   \n",
       "50%                   1.000000                 0.000000  8.910000e+02   \n",
       "75%                  39.500000                12.500000  1.492040e+05   \n",
       "max                 528.000000               609.000000  7.427621e+06   \n",
       "\n",
       "       restricted_stock        salary  shared_receipt_with_poi   to_messages  \\\n",
       "count      1.430000e+02  1.430000e+02               143.000000    143.000000   \n",
       "mean       7.235235e+05  1.714731e+05               676.384615   1191.972028   \n",
       "std        1.571184e+06  1.660404e+05              1066.923179   2223.860300   \n",
       "min       -2.604490e+06  0.000000e+00                 0.000000      0.000000   \n",
       "25%        0.000000e+00  0.000000e+00                 0.000000      0.000000   \n",
       "50%        3.466630e+05  2.061210e+05                91.000000    266.000000   \n",
       "75%        6.801640e+05  2.670975e+05               869.000000   1504.000000   \n",
       "max        1.384707e+07  1.060932e+06              5521.000000  15149.000000   \n",
       "\n",
       "       total_payments  total_stock_value  \n",
       "count    1.430000e+02       1.430000e+02  \n",
       "mean     1.489942e+06       2.404233e+06  \n",
       "std      2.386745e+06       4.422592e+06  \n",
       "min      0.000000e+00      -4.409300e+04  \n",
       "25%      8.929250e+04       2.148255e+05  \n",
       "50%      9.114530e+05       9.543540e+05  \n",
       "75%      1.858492e+06       2.217787e+06  \n",
       "max      1.725253e+07       3.076606e+07  "
      ]
     },
     "execution_count": 10,
     "metadata": {},
     "output_type": "execute_result"
    }
   ],
   "source": [
    "# Impute the missing values\n",
    "#from sklearn.preprocessing import Imputer\n",
    "#imp = Imputer(missing_values='NaN', strategy='median', axis=0)\n",
    "#imp.fit(df)\n",
    "#df_imp = pd.DataFrame(imp.transform(df.copy(deep=True)))\n",
    "\n",
    "df_imp = df.replace(to_replace=np.nan, value=0)\n",
    "df_imp = df.fillna(0).copy(deep=True)\n",
    "df_imp.columns = list(df.columns.values)\n",
    "\n",
    "print df_imp.isnull().sum()\n",
    "print df_imp.head()\n",
    "\n",
    "df_imp.describe()\n"
   ]
  },
  {
   "cell_type": "code",
   "execution_count": 11,
   "metadata": {
    "collapsed": false
   },
   "outputs": [
    {
     "name": "stdout",
     "output_type": "stream",
     "text": [
      "99\n"
     ]
    }
   ],
   "source": [
    "# drop row for 'THE TRAVEL AGENCY IN THE PARK'\n",
    "\n",
    "park_index = enron_dict.keys().index('THE TRAVEL AGENCY IN THE PARK')\n",
    "print park_index\n",
    "df_imp_sub = df_imp.drop(df_imp.index[[park_index]])"
   ]
  },
  {
   "cell_type": "code",
   "execution_count": 12,
   "metadata": {
    "collapsed": false
   },
   "outputs": [
    {
     "data": {
      "text/plain": [
       "{'bonus': 'NaN',\n",
       " 'deferral_payments': 'NaN',\n",
       " 'deferred_income': 'NaN',\n",
       " 'director_fees': 'NaN',\n",
       " 'email_address': 'NaN',\n",
       " 'exercised_stock_options': 'NaN',\n",
       " 'expenses': 'NaN',\n",
       " 'from_messages': 'NaN',\n",
       " 'from_poi_to_this_person': 'NaN',\n",
       " 'from_this_person_to_poi': 'NaN',\n",
       " 'loan_advances': 'NaN',\n",
       " 'long_term_incentive': 'NaN',\n",
       " 'other': 'NaN',\n",
       " 'poi': False,\n",
       " 'restricted_stock': 'NaN',\n",
       " 'restricted_stock_deferred': 'NaN',\n",
       " 'salary': 'NaN',\n",
       " 'shared_receipt_with_poi': 'NaN',\n",
       " 'to_messages': 'NaN',\n",
       " 'total_payments': 'NaN',\n",
       " 'total_stock_value': 'NaN'}"
      ]
     },
     "execution_count": 12,
     "metadata": {},
     "output_type": "execute_result"
    }
   ],
   "source": [
    "enron_dict['LOCKHART EUGENE E']"
   ]
  },
  {
   "cell_type": "code",
   "execution_count": 13,
   "metadata": {
    "collapsed": false
   },
   "outputs": [
    {
     "name": "stdout",
     "output_type": "stream",
     "text": [
      "89\n"
     ]
    }
   ],
   "source": [
    "lockhart_index = enron_dict.keys().index('LOCKHART EUGENE E')\n",
    "print lockhart_index\n",
    "df_imp_sub = df_imp.drop(df_imp.index[[lockhart_index]])"
   ]
  },
  {
   "cell_type": "markdown",
   "metadata": {},
   "source": [
    "'THE TRAVEL AGENCY IN THE PARK' was removed since it is not a person.\n",
    "Eugene E. Lockhart was removed during data processing since this row had no entries for any feature."
   ]
  },
  {
   "cell_type": "markdown",
   "metadata": {},
   "source": [
    "### Optimize Feature Selection/Engineering"
   ]
  },
  {
   "cell_type": "markdown",
   "metadata": {},
   "source": [
    "#### Create new features (related mini-project: Lesson 11)\n",
    "\n",
    "<p>\n",
    "<div style=\"background-color:#f0f0f0\">At least one new feature is implemented. Justification for that feature is provided in the written response, and the effect of that feature on the final algorithm performance is tested. The student is not required to include their new feature in their final feature set.</div>"
   ]
  },
  {
   "cell_type": "code",
   "execution_count": 14,
   "metadata": {
    "collapsed": true
   },
   "outputs": [],
   "source": [
    "# Rename datafram name after cleaning up NaN and outlier\n",
    "enron_df = df_imp_sub"
   ]
  },
  {
   "cell_type": "markdown",
   "metadata": {},
   "source": [
    "#### Study Financial Features "
   ]
  },
  {
   "cell_type": "code",
   "execution_count": 15,
   "metadata": {
    "collapsed": false
   },
   "outputs": [
    {
     "data": {
      "image/png": "[encoded data removed]",
      "text/plain": [
       "<matplotlib.figure.Figure at 0x104815650>"
      ]
     },
     "metadata": {},
     "output_type": "display_data"
    }
   ],
   "source": [
    "# Graph for features\n",
    "\n",
    "import matplotlib.pyplot as plt\n",
    "\n",
    "plt.scatter(enron_df['salary'], enron_df['total_payments'])\n",
    "plt.xlabel(\"salary\")\n",
    "plt.ylabel(\"total_payments\")\n",
    "plt.show()"
   ]
  },
  {
   "cell_type": "code",
   "execution_count": 16,
   "metadata": {
    "collapsed": false
   },
   "outputs": [
    {
     "data": {
      "image/png": "[encoded data removed]",
      "text/plain": [
       "<matplotlib.figure.Figure at 0x115364f10>"
      ]
     },
     "metadata": {},
     "output_type": "display_data"
    }
   ],
   "source": [
    "plt.scatter(enron_df['salary'], enron_df['total_stock_value'])\n",
    "plt.xlabel(\"salary\")\n",
    "plt.ylabel(\"total_stock_value\")\n",
    "plt.show()"
   ]
  },
  {
   "cell_type": "markdown",
   "metadata": {},
   "source": [
    "#### Create new features for financial features"
   ]
  },
  {
   "cell_type": "code",
   "execution_count": 17,
   "metadata": {
    "collapsed": false
   },
   "outputs": [
    {
     "data": {
      "text/html": [
       "<div>\n",
       "<table border=\"1\" class=\"dataframe\">\n",
       "  <thead>\n",
       "    <tr style=\"text-align: right;\">\n",
       "      <th></th>\n",
       "      <th>bonus</th>\n",
       "      <th>exercised_stock_options</th>\n",
       "      <th>expenses</th>\n",
       "      <th>from_messages</th>\n",
       "      <th>from_poi_to_this_person</th>\n",
       "      <th>from_this_person_to_poi</th>\n",
       "      <th>other</th>\n",
       "      <th>poi</th>\n",
       "      <th>restricted_stock</th>\n",
       "      <th>salary</th>\n",
       "      <th>shared_receipt_with_poi</th>\n",
       "      <th>to_messages</th>\n",
       "      <th>total_payments</th>\n",
       "      <th>total_stock_value</th>\n",
       "    </tr>\n",
       "  </thead>\n",
       "  <tbody>\n",
       "  </tbody>\n",
       "</table>\n",
       "</div>"
      ],
      "text/plain": [
       "Empty DataFrame\n",
       "Columns: [bonus, exercised_stock_options, expenses, from_messages, from_poi_to_this_person, from_this_person_to_poi, other, poi, restricted_stock, salary, shared_receipt_with_poi, to_messages, total_payments, total_stock_value]\n",
       "Index: []"
      ]
     },
     "execution_count": 17,
     "metadata": {},
     "output_type": "execute_result"
    }
   ],
   "source": [
    "enron_df[enron_df['total_stock_value'].isnull()]"
   ]
  },
  {
   "cell_type": "code",
   "execution_count": 18,
   "metadata": {
    "collapsed": true
   },
   "outputs": [],
   "source": [
    "# Create new features 'salary_of_total_payment' and 'salary_of_total_stock_value'\n",
    "enron_df['salary_of_total_payments'] = 0.0\n",
    "enron_df['salary_of_total_stock_value'] = 0.0\n",
    "enron_df.loc[enron_df['total_payments'] != 0.0,'salary_of_total_payments'] = enron_df['salary'] / enron_df['total_payments'] * 100\n",
    "enron_df.loc[enron_df['total_stock_value'] != 0.0,'salary_of_total_stock_value'] = enron_df['salary'] / enron_df['total_stock_value'] * 100"
   ]
  },
  {
   "cell_type": "code",
   "execution_count": 19,
   "metadata": {
    "collapsed": false
   },
   "outputs": [
    {
     "data": {
      "text/html": [
       "<div>\n",
       "<table border=\"1\" class=\"dataframe\">\n",
       "  <thead>\n",
       "    <tr style=\"text-align: right;\">\n",
       "      <th></th>\n",
       "      <th>bonus</th>\n",
       "      <th>exercised_stock_options</th>\n",
       "      <th>expenses</th>\n",
       "      <th>from_messages</th>\n",
       "      <th>from_poi_to_this_person</th>\n",
       "      <th>from_this_person_to_poi</th>\n",
       "      <th>other</th>\n",
       "      <th>poi</th>\n",
       "      <th>restricted_stock</th>\n",
       "      <th>salary</th>\n",
       "      <th>shared_receipt_with_poi</th>\n",
       "      <th>to_messages</th>\n",
       "      <th>total_payments</th>\n",
       "      <th>total_stock_value</th>\n",
       "      <th>salary_of_total_payments</th>\n",
       "      <th>salary_of_total_stock_value</th>\n",
       "    </tr>\n",
       "  </thead>\n",
       "  <tbody>\n",
       "    <tr>\n",
       "      <th>0</th>\n",
       "      <td>600000.0</td>\n",
       "      <td>0.0</td>\n",
       "      <td>94299.0</td>\n",
       "      <td>29.0</td>\n",
       "      <td>38.0</td>\n",
       "      <td>1.0</td>\n",
       "      <td>1740.0</td>\n",
       "      <td>False</td>\n",
       "      <td>585062.0</td>\n",
       "      <td>365788.0</td>\n",
       "      <td>702.0</td>\n",
       "      <td>807.0</td>\n",
       "      <td>1061827.0</td>\n",
       "      <td>585062.0</td>\n",
       "      <td>34.448926</td>\n",
       "      <td>62.521237</td>\n",
       "    </tr>\n",
       "    <tr>\n",
       "      <th>1</th>\n",
       "      <td>1200000.0</td>\n",
       "      <td>6680544.0</td>\n",
       "      <td>11200.0</td>\n",
       "      <td>0.0</td>\n",
       "      <td>0.0</td>\n",
       "      <td>0.0</td>\n",
       "      <td>2660303.0</td>\n",
       "      <td>False</td>\n",
       "      <td>3942714.0</td>\n",
       "      <td>267102.0</td>\n",
       "      <td>0.0</td>\n",
       "      <td>0.0</td>\n",
       "      <td>5634343.0</td>\n",
       "      <td>10623258.0</td>\n",
       "      <td>4.740606</td>\n",
       "      <td>2.514313</td>\n",
       "    </tr>\n",
       "    <tr>\n",
       "      <th>2</th>\n",
       "      <td>350000.0</td>\n",
       "      <td>4890344.0</td>\n",
       "      <td>78552.0</td>\n",
       "      <td>0.0</td>\n",
       "      <td>0.0</td>\n",
       "      <td>0.0</td>\n",
       "      <td>12961.0</td>\n",
       "      <td>False</td>\n",
       "      <td>1788391.0</td>\n",
       "      <td>170941.0</td>\n",
       "      <td>0.0</td>\n",
       "      <td>0.0</td>\n",
       "      <td>211725.0</td>\n",
       "      <td>6678735.0</td>\n",
       "      <td>80.737277</td>\n",
       "      <td>2.559482</td>\n",
       "    </tr>\n",
       "    <tr>\n",
       "      <th>3</th>\n",
       "      <td>0.0</td>\n",
       "      <td>651850.0</td>\n",
       "      <td>0.0</td>\n",
       "      <td>12.0</td>\n",
       "      <td>10.0</td>\n",
       "      <td>0.0</td>\n",
       "      <td>0.0</td>\n",
       "      <td>False</td>\n",
       "      <td>386335.0</td>\n",
       "      <td>0.0</td>\n",
       "      <td>58.0</td>\n",
       "      <td>764.0</td>\n",
       "      <td>0.0</td>\n",
       "      <td>1038185.0</td>\n",
       "      <td>0.000000</td>\n",
       "      <td>0.000000</td>\n",
       "    </tr>\n",
       "    <tr>\n",
       "      <th>4</th>\n",
       "      <td>1500000.0</td>\n",
       "      <td>5538001.0</td>\n",
       "      <td>34039.0</td>\n",
       "      <td>32.0</td>\n",
       "      <td>32.0</td>\n",
       "      <td>21.0</td>\n",
       "      <td>11350.0</td>\n",
       "      <td>True</td>\n",
       "      <td>853064.0</td>\n",
       "      <td>243293.0</td>\n",
       "      <td>1035.0</td>\n",
       "      <td>1045.0</td>\n",
       "      <td>288682.0</td>\n",
       "      <td>6391065.0</td>\n",
       "      <td>84.277163</td>\n",
       "      <td>3.806768</td>\n",
       "    </tr>\n",
       "  </tbody>\n",
       "</table>\n",
       "</div>"
      ],
      "text/plain": [
       "       bonus  exercised_stock_options  expenses  from_messages  \\\n",
       "0   600000.0                      0.0   94299.0           29.0   \n",
       "1  1200000.0                6680544.0   11200.0            0.0   \n",
       "2   350000.0                4890344.0   78552.0            0.0   \n",
       "3        0.0                 651850.0       0.0           12.0   \n",
       "4  1500000.0                5538001.0   34039.0           32.0   \n",
       "\n",
       "   from_poi_to_this_person  from_this_person_to_poi      other    poi  \\\n",
       "0                     38.0                      1.0     1740.0  False   \n",
       "1                      0.0                      0.0  2660303.0  False   \n",
       "2                      0.0                      0.0    12961.0  False   \n",
       "3                     10.0                      0.0        0.0  False   \n",
       "4                     32.0                     21.0    11350.0   True   \n",
       "\n",
       "   restricted_stock    salary  shared_receipt_with_poi  to_messages  \\\n",
       "0          585062.0  365788.0                    702.0        807.0   \n",
       "1         3942714.0  267102.0                      0.0          0.0   \n",
       "2         1788391.0  170941.0                      0.0          0.0   \n",
       "3          386335.0       0.0                     58.0        764.0   \n",
       "4          853064.0  243293.0                   1035.0       1045.0   \n",
       "\n",
       "   total_payments  total_stock_value  salary_of_total_payments  \\\n",
       "0       1061827.0           585062.0                 34.448926   \n",
       "1       5634343.0         10623258.0                  4.740606   \n",
       "2        211725.0          6678735.0                 80.737277   \n",
       "3             0.0          1038185.0                  0.000000   \n",
       "4        288682.0          6391065.0                 84.277163   \n",
       "\n",
       "   salary_of_total_stock_value  \n",
       "0                    62.521237  \n",
       "1                     2.514313  \n",
       "2                     2.559482  \n",
       "3                     0.000000  \n",
       "4                     3.806768  "
      ]
     },
     "execution_count": 19,
     "metadata": {},
     "output_type": "execute_result"
    }
   ],
   "source": [
    "enron_df.head()"
   ]
  },
  {
   "cell_type": "code",
   "execution_count": 20,
   "metadata": {
    "collapsed": false
   },
   "outputs": [
    {
     "data": {
      "image/png": "[encoded data removed]",
      "text/plain": [
       "<matplotlib.figure.Figure at 0x11792f1d0>"
      ]
     },
     "metadata": {},
     "output_type": "display_data"
    }
   ],
   "source": [
    "# Graph 'salary_of_total_payment' and 'salary_of_total_stock_value' to salary\n",
    "plt.scatter(enron_df['salary'], enron_df['salary_of_total_payments'], color='blue')\n",
    "plt.scatter(enron_df['salary'], enron_df['salary_of_total_stock_value'], color='red')\n",
    "plt.xlabel('Salary')\n",
    "plt.ylabel('Of Total Payment / Of Total Stock Value')\n",
    "plt.show()\n"
   ]
  },
  {
   "cell_type": "markdown",
   "metadata": {},
   "source": [
    "#### Create new features for email related features"
   ]
  },
  {
   "cell_type": "code",
   "execution_count": 21,
   "metadata": {
    "collapsed": true
   },
   "outputs": [],
   "source": [
    "# Mark as fraud for those with outrageous compensation\n",
    "def outlierCleaner(predictions, ages, net_worths):\n",
    "    \"\"\"\n",
    "        Clean away the 10% of points that have the largest\n",
    "        residual errors (difference between the prediction\n",
    "        and the actual net worth).\n",
    "\n",
    "        Return a list of tuples named cleaned_data where\n",
    "        each tuple is of the form (age, net_worth, error).\n",
    "    \"\"\"\n",
    "\n",
    "    cleaned_data = []\n",
    "\n",
    "    #print 'starting clean read data to tuple'\n",
    "    #print 'length:', len(predictions)\n",
    "    ### your code goes here\n",
    "    for i in range(0, len(predictions)):\n",
    "        age = ages[i][0]\n",
    "        net_worth = net_worths[i][0]\n",
    "        pred = predictions[i][0]\n",
    "        err = net_worth - pred\n",
    "\n",
    "        cleaned_data.append((age, net_worth, err))\n",
    "\n",
    "    #print 'length of cleaned_data before sort:', len(cleaned_data)\n",
    "    cleaned_data = sorted(cleaned_data, key=lambda x: x[2], reverse=True)[0:81]\n",
    "    #print cleaned_data[-1]\n",
    "\n",
    "    print 'length of cleaned_data:', len(cleaned_data)\n",
    "    return cleaned_data\n"
   ]
  },
  {
   "cell_type": "markdown",
   "metadata": {},
   "source": [
    "Create column 'poi_ratio' to store POI related message ratio in percentages. \n",
    "\n",
    "Also will be added next features:\n",
    "the fraction of all emails to a person that were sent from a person of interest\n",
    "the fraction of all emails that a person sent that were addressed to persons of interest\n",
    "\n",
    "The hypothesis behind these features was that there might be stronger email connections between POIs than between \n",
    "POIs and non-POIs, and a scatterplot of these two features suggests that there might be some truth to that hypothesis.\n",
    "\n",
    "Additionally I want to scale 'salary' to range [0,100]."
   ]
  },
  {
   "cell_type": "code",
   "execution_count": 22,
   "metadata": {
    "collapsed": false
   },
   "outputs": [],
   "source": [
    "enron_df['poi_ratio'] = 0.0\n",
    "enron_df['fraction_to_poi'] = 0.0\n",
    "enron_df['fraction_from_poi'] = 0.0\n",
    "\n",
    "enron_df.loc[(enron_df['from_messages'] + enron_df['to_messages']) != 0.0, 'poi_ratio'] = (enron_df['from_poi_to_this_person'] + enron_df['from_this_person_to_poi']) / (enron_df['from_messages'] + enron_df['to_messages']) * 100\n",
    "enron_df.loc[enron_df['from_messages'] != 0.0, 'fraction_to_poi'] = enron_df['from_this_person_to_poi'] / enron_df['from_messages'] * 100\n",
    "enron_df.loc[enron_df['to_messages'] != 0.0, 'fraction_from_poi']= enron_df['from_poi_to_this_person'] / enron_df['to_messages'] * 100\n"
   ]
  },
  {
   "cell_type": "code",
   "execution_count": 23,
   "metadata": {
    "collapsed": false
   },
   "outputs": [
    {
     "data": {
      "image/png": "[encoded data removed]",
      "text/plain": [
       "<matplotlib.figure.Figure at 0x115364d90>"
      ]
     },
     "metadata": {},
     "output_type": "display_data"
    }
   ],
   "source": [
    "# Graph 'fraction_to_poi' and 'fraction_from_poi' to salary\n",
    "plt.scatter(enron_df['salary'], enron_df['fraction_to_poi'], color='blue')\n",
    "plt.scatter(enron_df['salary'], enron_df['fraction_from_poi'], color='red')\n",
    "plt.xlabel('Salary')\n",
    "plt.ylabel('Fraction')\n",
    "plt.show()\n"
   ]
  },
  {
   "cell_type": "code",
   "execution_count": null,
   "metadata": {
    "collapsed": true
   },
   "outputs": [],
   "source": []
  },
  {
   "cell_type": "code",
   "execution_count": 24,
   "metadata": {
    "collapsed": true
   },
   "outputs": [],
   "source": [
    "# Create feature '' from email text"
   ]
  },
  {
   "cell_type": "code",
   "execution_count": 25,
   "metadata": {
    "collapsed": true
   },
   "outputs": [],
   "source": [
    "#from sklearn.feature_extraction.text import CountVectorizer\n",
    "#vectorizer = CountVectorizer()\n",
    "#email_list = []\n",
    "#bag_of_words = vectorizer.fit(email_list)\n",
    "#bag_of_words = vectorizer.transform(email_list)\n",
    "\n",
    "#from nltk.corpus import stopwords\n",
    "#sw = stopwords.words('english')\n",
    "\n",
    "#from nltk.stem.snowball import SnowballStemmer\n",
    "#stemmer = SnowballStemmer('english')\n",
    "#stemmer.stem('responsive')"
   ]
  },
  {
   "cell_type": "markdown",
   "metadata": {},
   "source": [
    "#### Move 'poi' to the first column"
   ]
  },
  {
   "cell_type": "code",
   "execution_count": 26,
   "metadata": {
    "collapsed": false
   },
   "outputs": [],
   "source": [
    "# move 'poi' to the first column\n",
    "cols = enron_df.columns.tolist()\n",
    "#print cols\n",
    "cols = cols[7:8] + cols[:7] + cols[8:]\n",
    "#print cols\n",
    "enron_df = enron_df[cols]\n",
    "#print enron_df.columns.values\n"
   ]
  },
  {
   "cell_type": "code",
   "execution_count": 27,
   "metadata": {
    "collapsed": false
   },
   "outputs": [
    {
     "data": {
      "text/plain": [
       "array(['poi', 'bonus', 'exercised_stock_options', 'expenses',\n",
       "       'from_messages', 'from_poi_to_this_person',\n",
       "       'from_this_person_to_poi', 'other', 'restricted_stock', 'salary',\n",
       "       'shared_receipt_with_poi', 'to_messages', 'total_payments',\n",
       "       'total_stock_value', 'salary_of_total_payments',\n",
       "       'salary_of_total_stock_value', 'poi_ratio', 'fraction_to_poi',\n",
       "       'fraction_from_poi'], dtype=object)"
      ]
     },
     "execution_count": 27,
     "metadata": {},
     "output_type": "execute_result"
    }
   ],
   "source": [
    "enron_df.columns.values"
   ]
  },
  {
   "cell_type": "code",
   "execution_count": 28,
   "metadata": {
    "collapsed": false
   },
   "outputs": [
    {
     "data": {
      "text/html": [
       "<div>\n",
       "<table border=\"1\" class=\"dataframe\">\n",
       "  <thead>\n",
       "    <tr style=\"text-align: right;\">\n",
       "      <th></th>\n",
       "      <th>poi</th>\n",
       "      <th>bonus</th>\n",
       "      <th>exercised_stock_options</th>\n",
       "      <th>expenses</th>\n",
       "      <th>from_messages</th>\n",
       "      <th>from_poi_to_this_person</th>\n",
       "      <th>from_this_person_to_poi</th>\n",
       "      <th>other</th>\n",
       "      <th>restricted_stock</th>\n",
       "      <th>salary</th>\n",
       "      <th>shared_receipt_with_poi</th>\n",
       "      <th>to_messages</th>\n",
       "      <th>total_payments</th>\n",
       "      <th>total_stock_value</th>\n",
       "      <th>salary_of_total_payments</th>\n",
       "      <th>salary_of_total_stock_value</th>\n",
       "      <th>poi_ratio</th>\n",
       "      <th>fraction_to_poi</th>\n",
       "      <th>fraction_from_poi</th>\n",
       "    </tr>\n",
       "  </thead>\n",
       "  <tbody>\n",
       "    <tr>\n",
       "      <th>0</th>\n",
       "      <td>False</td>\n",
       "      <td>600000.0</td>\n",
       "      <td>0.0</td>\n",
       "      <td>94299.0</td>\n",
       "      <td>29.0</td>\n",
       "      <td>38.0</td>\n",
       "      <td>1.0</td>\n",
       "      <td>1740.0</td>\n",
       "      <td>585062.0</td>\n",
       "      <td>365788.0</td>\n",
       "      <td>702.0</td>\n",
       "      <td>807.0</td>\n",
       "      <td>1061827.0</td>\n",
       "      <td>585062.0</td>\n",
       "      <td>34.448926</td>\n",
       "      <td>62.521237</td>\n",
       "      <td>4.665072</td>\n",
       "      <td>3.448276</td>\n",
       "      <td>4.708798</td>\n",
       "    </tr>\n",
       "    <tr>\n",
       "      <th>1</th>\n",
       "      <td>False</td>\n",
       "      <td>1200000.0</td>\n",
       "      <td>6680544.0</td>\n",
       "      <td>11200.0</td>\n",
       "      <td>0.0</td>\n",
       "      <td>0.0</td>\n",
       "      <td>0.0</td>\n",
       "      <td>2660303.0</td>\n",
       "      <td>3942714.0</td>\n",
       "      <td>267102.0</td>\n",
       "      <td>0.0</td>\n",
       "      <td>0.0</td>\n",
       "      <td>5634343.0</td>\n",
       "      <td>10623258.0</td>\n",
       "      <td>4.740606</td>\n",
       "      <td>2.514313</td>\n",
       "      <td>0.000000</td>\n",
       "      <td>0.000000</td>\n",
       "      <td>0.000000</td>\n",
       "    </tr>\n",
       "    <tr>\n",
       "      <th>2</th>\n",
       "      <td>False</td>\n",
       "      <td>350000.0</td>\n",
       "      <td>4890344.0</td>\n",
       "      <td>78552.0</td>\n",
       "      <td>0.0</td>\n",
       "      <td>0.0</td>\n",
       "      <td>0.0</td>\n",
       "      <td>12961.0</td>\n",
       "      <td>1788391.0</td>\n",
       "      <td>170941.0</td>\n",
       "      <td>0.0</td>\n",
       "      <td>0.0</td>\n",
       "      <td>211725.0</td>\n",
       "      <td>6678735.0</td>\n",
       "      <td>80.737277</td>\n",
       "      <td>2.559482</td>\n",
       "      <td>0.000000</td>\n",
       "      <td>0.000000</td>\n",
       "      <td>0.000000</td>\n",
       "    </tr>\n",
       "    <tr>\n",
       "      <th>3</th>\n",
       "      <td>False</td>\n",
       "      <td>0.0</td>\n",
       "      <td>651850.0</td>\n",
       "      <td>0.0</td>\n",
       "      <td>12.0</td>\n",
       "      <td>10.0</td>\n",
       "      <td>0.0</td>\n",
       "      <td>0.0</td>\n",
       "      <td>386335.0</td>\n",
       "      <td>0.0</td>\n",
       "      <td>58.0</td>\n",
       "      <td>764.0</td>\n",
       "      <td>0.0</td>\n",
       "      <td>1038185.0</td>\n",
       "      <td>0.000000</td>\n",
       "      <td>0.000000</td>\n",
       "      <td>1.288660</td>\n",
       "      <td>0.000000</td>\n",
       "      <td>1.308901</td>\n",
       "    </tr>\n",
       "    <tr>\n",
       "      <th>4</th>\n",
       "      <td>True</td>\n",
       "      <td>1500000.0</td>\n",
       "      <td>5538001.0</td>\n",
       "      <td>34039.0</td>\n",
       "      <td>32.0</td>\n",
       "      <td>32.0</td>\n",
       "      <td>21.0</td>\n",
       "      <td>11350.0</td>\n",
       "      <td>853064.0</td>\n",
       "      <td>243293.0</td>\n",
       "      <td>1035.0</td>\n",
       "      <td>1045.0</td>\n",
       "      <td>288682.0</td>\n",
       "      <td>6391065.0</td>\n",
       "      <td>84.277163</td>\n",
       "      <td>3.806768</td>\n",
       "      <td>4.921077</td>\n",
       "      <td>65.625000</td>\n",
       "      <td>3.062201</td>\n",
       "    </tr>\n",
       "  </tbody>\n",
       "</table>\n",
       "</div>"
      ],
      "text/plain": [
       "     poi      bonus  exercised_stock_options  expenses  from_messages  \\\n",
       "0  False   600000.0                      0.0   94299.0           29.0   \n",
       "1  False  1200000.0                6680544.0   11200.0            0.0   \n",
       "2  False   350000.0                4890344.0   78552.0            0.0   \n",
       "3  False        0.0                 651850.0       0.0           12.0   \n",
       "4   True  1500000.0                5538001.0   34039.0           32.0   \n",
       "\n",
       "   from_poi_to_this_person  from_this_person_to_poi      other  \\\n",
       "0                     38.0                      1.0     1740.0   \n",
       "1                      0.0                      0.0  2660303.0   \n",
       "2                      0.0                      0.0    12961.0   \n",
       "3                     10.0                      0.0        0.0   \n",
       "4                     32.0                     21.0    11350.0   \n",
       "\n",
       "   restricted_stock    salary  shared_receipt_with_poi  to_messages  \\\n",
       "0          585062.0  365788.0                    702.0        807.0   \n",
       "1         3942714.0  267102.0                      0.0          0.0   \n",
       "2         1788391.0  170941.0                      0.0          0.0   \n",
       "3          386335.0       0.0                     58.0        764.0   \n",
       "4          853064.0  243293.0                   1035.0       1045.0   \n",
       "\n",
       "   total_payments  total_stock_value  salary_of_total_payments  \\\n",
       "0       1061827.0           585062.0                 34.448926   \n",
       "1       5634343.0         10623258.0                  4.740606   \n",
       "2        211725.0          6678735.0                 80.737277   \n",
       "3             0.0          1038185.0                  0.000000   \n",
       "4        288682.0          6391065.0                 84.277163   \n",
       "\n",
       "   salary_of_total_stock_value  poi_ratio  fraction_to_poi  fraction_from_poi  \n",
       "0                    62.521237   4.665072         3.448276           4.708798  \n",
       "1                     2.514313   0.000000         0.000000           0.000000  \n",
       "2                     2.559482   0.000000         0.000000           0.000000  \n",
       "3                     0.000000   1.288660         0.000000           1.308901  \n",
       "4                     3.806768   4.921077        65.625000           3.062201  "
      ]
     },
     "execution_count": 28,
     "metadata": {},
     "output_type": "execute_result"
    }
   ],
   "source": [
    "enron_df.head()"
   ]
  },
  {
   "cell_type": "code",
   "execution_count": 29,
   "metadata": {
    "collapsed": false
   },
   "outputs": [
    {
     "data": {
      "text/html": [
       "<div>\n",
       "<table border=\"1\" class=\"dataframe\">\n",
       "  <thead>\n",
       "    <tr style=\"text-align: right;\">\n",
       "      <th></th>\n",
       "      <th>bonus</th>\n",
       "      <th>exercised_stock_options</th>\n",
       "      <th>expenses</th>\n",
       "      <th>from_messages</th>\n",
       "      <th>from_poi_to_this_person</th>\n",
       "      <th>from_this_person_to_poi</th>\n",
       "      <th>other</th>\n",
       "      <th>restricted_stock</th>\n",
       "      <th>salary</th>\n",
       "      <th>shared_receipt_with_poi</th>\n",
       "      <th>to_messages</th>\n",
       "      <th>total_payments</th>\n",
       "      <th>total_stock_value</th>\n",
       "      <th>salary_of_total_payments</th>\n",
       "      <th>salary_of_total_stock_value</th>\n",
       "      <th>poi_ratio</th>\n",
       "      <th>fraction_to_poi</th>\n",
       "      <th>fraction_from_poi</th>\n",
       "    </tr>\n",
       "  </thead>\n",
       "  <tbody>\n",
       "    <tr>\n",
       "      <th>count</th>\n",
       "      <td>1.420000e+02</td>\n",
       "      <td>1.420000e+02</td>\n",
       "      <td>142.000000</td>\n",
       "      <td>142.000000</td>\n",
       "      <td>142.000000</td>\n",
       "      <td>142.000000</td>\n",
       "      <td>1.420000e+02</td>\n",
       "      <td>1.420000e+02</td>\n",
       "      <td>1.420000e+02</td>\n",
       "      <td>142.000000</td>\n",
       "      <td>142.000000</td>\n",
       "      <td>1.420000e+02</td>\n",
       "      <td>1.420000e+02</td>\n",
       "      <td>142.000000</td>\n",
       "      <td>142.000000</td>\n",
       "      <td>142.000000</td>\n",
       "      <td>142.000000</td>\n",
       "      <td>142.000000</td>\n",
       "    </tr>\n",
       "    <tr>\n",
       "      <th>mean</th>\n",
       "      <td>5.967860e+05</td>\n",
       "      <td>1.727585e+06</td>\n",
       "      <td>34963.950704</td>\n",
       "      <td>367.690141</td>\n",
       "      <td>37.816901</td>\n",
       "      <td>24.647887</td>\n",
       "      <td>2.283352e+05</td>\n",
       "      <td>7.286187e+05</td>\n",
       "      <td>1.726806e+05</td>\n",
       "      <td>681.147887</td>\n",
       "      <td>1200.366197</td>\n",
       "      <td>1.500435e+06</td>\n",
       "      <td>2.421165e+06</td>\n",
       "      <td>15.198587</td>\n",
       "      <td>35.821064</td>\n",
       "      <td>2.844448</td>\n",
       "      <td>10.638415</td>\n",
       "      <td>2.261809</td>\n",
       "    </tr>\n",
       "    <tr>\n",
       "      <th>std</th>\n",
       "      <td>1.039388e+06</td>\n",
       "      <td>3.704389e+06</td>\n",
       "      <td>45300.747867</td>\n",
       "      <td>1460.502581</td>\n",
       "      <td>74.342949</td>\n",
       "      <td>80.337515</td>\n",
       "      <td>7.576489e+05</td>\n",
       "      <td>1.575560e+06</td>\n",
       "      <td>1.659968e+05</td>\n",
       "      <td>1069.172948</td>\n",
       "      <td>2229.457770</td>\n",
       "      <td>2.391881e+06</td>\n",
       "      <td>4.433593e+06</td>\n",
       "      <td>20.375767</td>\n",
       "      <td>194.171876</td>\n",
       "      <td>4.312736</td>\n",
       "      <td>18.454284</td>\n",
       "      <td>3.667065</td>\n",
       "    </tr>\n",
       "    <tr>\n",
       "      <th>min</th>\n",
       "      <td>0.000000e+00</td>\n",
       "      <td>0.000000e+00</td>\n",
       "      <td>0.000000</td>\n",
       "      <td>0.000000</td>\n",
       "      <td>0.000000</td>\n",
       "      <td>0.000000</td>\n",
       "      <td>0.000000e+00</td>\n",
       "      <td>-2.604490e+06</td>\n",
       "      <td>0.000000e+00</td>\n",
       "      <td>0.000000</td>\n",
       "      <td>0.000000</td>\n",
       "      <td>0.000000e+00</td>\n",
       "      <td>-4.409300e+04</td>\n",
       "      <td>0.000000</td>\n",
       "      <td>0.000000</td>\n",
       "      <td>0.000000</td>\n",
       "      <td>0.000000</td>\n",
       "      <td>0.000000</td>\n",
       "    </tr>\n",
       "    <tr>\n",
       "      <th>25%</th>\n",
       "      <td>0.000000e+00</td>\n",
       "      <td>0.000000e+00</td>\n",
       "      <td>0.000000</td>\n",
       "      <td>0.000000</td>\n",
       "      <td>0.000000</td>\n",
       "      <td>0.000000</td>\n",
       "      <td>0.000000e+00</td>\n",
       "      <td>8.115000e+03</td>\n",
       "      <td>0.000000e+00</td>\n",
       "      <td>0.000000</td>\n",
       "      <td>0.000000</td>\n",
       "      <td>9.394475e+04</td>\n",
       "      <td>2.288695e+05</td>\n",
       "      <td>0.000000</td>\n",
       "      <td>0.000000</td>\n",
       "      <td>0.000000</td>\n",
       "      <td>0.000000</td>\n",
       "      <td>0.000000</td>\n",
       "    </tr>\n",
       "    <tr>\n",
       "      <th>50%</th>\n",
       "      <td>2.750000e+05</td>\n",
       "      <td>6.046375e+05</td>\n",
       "      <td>18094.500000</td>\n",
       "      <td>16.500000</td>\n",
       "      <td>2.500000</td>\n",
       "      <td>0.000000</td>\n",
       "      <td>9.190000e+02</td>\n",
       "      <td>3.535955e+05</td>\n",
       "      <td>2.083105e+05</td>\n",
       "      <td>102.500000</td>\n",
       "      <td>289.000000</td>\n",
       "      <td>9.138250e+05</td>\n",
       "      <td>9.551135e+05</td>\n",
       "      <td>9.792470</td>\n",
       "      <td>5.889988</td>\n",
       "      <td>0.787407</td>\n",
       "      <td>0.000000</td>\n",
       "      <td>0.297659</td>\n",
       "    </tr>\n",
       "    <tr>\n",
       "      <th>75%</th>\n",
       "      <td>8.000000e+05</td>\n",
       "      <td>1.636585e+06</td>\n",
       "      <td>52905.250000</td>\n",
       "      <td>51.250000</td>\n",
       "      <td>39.750000</td>\n",
       "      <td>12.750000</td>\n",
       "      <td>1.498310e+05</td>\n",
       "      <td>6.892030e+05</td>\n",
       "      <td>2.670998e+05</td>\n",
       "      <td>871.500000</td>\n",
       "      <td>1513.000000</td>\n",
       "      <td>1.863625e+06</td>\n",
       "      <td>2.218031e+06</td>\n",
       "      <td>21.593596</td>\n",
       "      <td>22.361452</td>\n",
       "      <td>4.367335</td>\n",
       "      <td>16.995688</td>\n",
       "      <td>3.012120</td>\n",
       "    </tr>\n",
       "    <tr>\n",
       "      <th>max</th>\n",
       "      <td>8.000000e+06</td>\n",
       "      <td>3.076606e+07</td>\n",
       "      <td>228763.000000</td>\n",
       "      <td>14368.000000</td>\n",
       "      <td>528.000000</td>\n",
       "      <td>609.000000</td>\n",
       "      <td>7.427621e+06</td>\n",
       "      <td>1.384707e+07</td>\n",
       "      <td>1.060932e+06</td>\n",
       "      <td>5521.000000</td>\n",
       "      <td>15149.000000</td>\n",
       "      <td>1.725253e+07</td>\n",
       "      <td>3.076606e+07</td>\n",
       "      <td>94.795031</td>\n",
       "      <td>2274.591986</td>\n",
       "      <td>22.435175</td>\n",
       "      <td>100.000000</td>\n",
       "      <td>21.734104</td>\n",
       "    </tr>\n",
       "  </tbody>\n",
       "</table>\n",
       "</div>"
      ],
      "text/plain": [
       "              bonus  exercised_stock_options       expenses  from_messages  \\\n",
       "count  1.420000e+02             1.420000e+02     142.000000     142.000000   \n",
       "mean   5.967860e+05             1.727585e+06   34963.950704     367.690141   \n",
       "std    1.039388e+06             3.704389e+06   45300.747867    1460.502581   \n",
       "min    0.000000e+00             0.000000e+00       0.000000       0.000000   \n",
       "25%    0.000000e+00             0.000000e+00       0.000000       0.000000   \n",
       "50%    2.750000e+05             6.046375e+05   18094.500000      16.500000   \n",
       "75%    8.000000e+05             1.636585e+06   52905.250000      51.250000   \n",
       "max    8.000000e+06             3.076606e+07  228763.000000   14368.000000   \n",
       "\n",
       "       from_poi_to_this_person  from_this_person_to_poi         other  \\\n",
       "count               142.000000               142.000000  1.420000e+02   \n",
       "mean                 37.816901                24.647887  2.283352e+05   \n",
       "std                  74.342949                80.337515  7.576489e+05   \n",
       "min                   0.000000                 0.000000  0.000000e+00   \n",
       "25%                   0.000000                 0.000000  0.000000e+00   \n",
       "50%                   2.500000                 0.000000  9.190000e+02   \n",
       "75%                  39.750000                12.750000  1.498310e+05   \n",
       "max                 528.000000               609.000000  7.427621e+06   \n",
       "\n",
       "       restricted_stock        salary  shared_receipt_with_poi   to_messages  \\\n",
       "count      1.420000e+02  1.420000e+02               142.000000    142.000000   \n",
       "mean       7.286187e+05  1.726806e+05               681.147887   1200.366197   \n",
       "std        1.575560e+06  1.659968e+05              1069.172948   2229.457770   \n",
       "min       -2.604490e+06  0.000000e+00                 0.000000      0.000000   \n",
       "25%        8.115000e+03  0.000000e+00                 0.000000      0.000000   \n",
       "50%        3.535955e+05  2.083105e+05               102.500000    289.000000   \n",
       "75%        6.892030e+05  2.670998e+05               871.500000   1513.000000   \n",
       "max        1.384707e+07  1.060932e+06              5521.000000  15149.000000   \n",
       "\n",
       "       total_payments  total_stock_value  salary_of_total_payments  \\\n",
       "count    1.420000e+02       1.420000e+02                142.000000   \n",
       "mean     1.500435e+06       2.421165e+06                 15.198587   \n",
       "std      2.391881e+06       4.433593e+06                 20.375767   \n",
       "min      0.000000e+00      -4.409300e+04                  0.000000   \n",
       "25%      9.394475e+04       2.288695e+05                  0.000000   \n",
       "50%      9.138250e+05       9.551135e+05                  9.792470   \n",
       "75%      1.863625e+06       2.218031e+06                 21.593596   \n",
       "max      1.725253e+07       3.076606e+07                 94.795031   \n",
       "\n",
       "       salary_of_total_stock_value   poi_ratio  fraction_to_poi  \\\n",
       "count                   142.000000  142.000000       142.000000   \n",
       "mean                     35.821064    2.844448        10.638415   \n",
       "std                     194.171876    4.312736        18.454284   \n",
       "min                       0.000000    0.000000         0.000000   \n",
       "25%                       0.000000    0.000000         0.000000   \n",
       "50%                       5.889988    0.787407         0.000000   \n",
       "75%                      22.361452    4.367335        16.995688   \n",
       "max                    2274.591986   22.435175       100.000000   \n",
       "\n",
       "       fraction_from_poi  \n",
       "count         142.000000  \n",
       "mean            2.261809  \n",
       "std             3.667065  \n",
       "min             0.000000  \n",
       "25%             0.000000  \n",
       "50%             0.297659  \n",
       "75%             3.012120  \n",
       "max            21.734104  "
      ]
     },
     "execution_count": 29,
     "metadata": {},
     "output_type": "execute_result"
    }
   ],
   "source": [
    "enron_df.describe()"
   ]
  },
  {
   "cell_type": "code",
   "execution_count": 30,
   "metadata": {
    "collapsed": false
   },
   "outputs": [
    {
     "name": "stdout",
     "output_type": "stream",
     "text": [
      "<class 'pandas.core.frame.DataFrame'>\n",
      "Int64Index: 142 entries, 0 to 142\n",
      "Data columns (total 19 columns):\n",
      "poi                            142 non-null bool\n",
      "bonus                          142 non-null float64\n",
      "exercised_stock_options        142 non-null float64\n",
      "expenses                       142 non-null float64\n",
      "from_messages                  142 non-null float64\n",
      "from_poi_to_this_person        142 non-null float64\n",
      "from_this_person_to_poi        142 non-null float64\n",
      "other                          142 non-null float64\n",
      "restricted_stock               142 non-null float64\n",
      "salary                         142 non-null float64\n",
      "shared_receipt_with_poi        142 non-null float64\n",
      "to_messages                    142 non-null float64\n",
      "total_payments                 142 non-null float64\n",
      "total_stock_value              142 non-null float64\n",
      "salary_of_total_payments       142 non-null float64\n",
      "salary_of_total_stock_value    142 non-null float64\n",
      "poi_ratio                      142 non-null float64\n",
      "fraction_to_poi                142 non-null float64\n",
      "fraction_from_poi              142 non-null float64\n",
      "dtypes: bool(1), float64(18)\n",
      "memory usage: 21.2 KB\n"
     ]
    }
   ],
   "source": [
    "enron_df.info()"
   ]
  },
  {
   "cell_type": "code",
   "execution_count": null,
   "metadata": {
    "collapsed": true
   },
   "outputs": [],
   "source": []
  },
  {
   "cell_type": "markdown",
   "metadata": {},
   "source": [
    "#### Set up features, labels, and predictors"
   ]
  },
  {
   "cell_type": "code",
   "execution_count": 31,
   "metadata": {
    "collapsed": false
   },
   "outputs": [
    {
     "name": "stdout",
     "output_type": "stream",
     "text": [
      "['bonus' 'exercised_stock_options' 'expenses' 'from_messages'\n",
      " 'from_poi_to_this_person' 'from_this_person_to_poi' 'other'\n",
      " 'restricted_stock' 'salary' 'shared_receipt_with_poi' 'to_messages'\n",
      " 'total_payments' 'total_stock_value' 'salary_of_total_payments'\n",
      " 'salary_of_total_stock_value' 'poi_ratio' 'fraction_to_poi'\n",
      " 'fraction_from_poi']\n"
     ]
    }
   ],
   "source": [
    "predictors = enron_df.drop('poi', axis=1).columns.values\n",
    "print predictors"
   ]
  },
  {
   "cell_type": "code",
   "execution_count": null,
   "metadata": {
    "collapsed": true
   },
   "outputs": [],
   "source": []
  },
  {
   "cell_type": "markdown",
   "metadata": {},
   "source": [
    "#### Intelligently select features (related mini-project: Lesson 11)\n",
    "\n",
    "<p>\n",
    "<div style=\"background-color:#f0f0f0\">Univariate or recursive feature selection is deployed, or features are selected by hand (different combinations of features are attempted, and the performance is documented for each one). Features that are selected are reported and the number of features selected is justified. For an algorithm that supports getting the feature importances (e.g. decision tree) or feature scores (e.g. SelectKBest), those are documented as well.</div>"
   ]
  },
  {
   "cell_type": "code",
   "execution_count": 33,
   "metadata": {
    "collapsed": false
   },
   "outputs": [
    {
     "data": {
      "image/png": "[encoded data removed]",
      "text/plain": [
       "<matplotlib.figure.Figure at 0x1180c4550>"
      ]
     },
     "metadata": {},
     "output_type": "display_data"
    }
   ],
   "source": [
    "# Feature importances By SelectKBest\n",
    "\n",
    "import numpy as np\n",
    "from sklearn.feature_selection import SelectKBest, f_classif\n",
    "from sklearn.cross_validation import KFold\n",
    "%matplotlib inline\n",
    "import matplotlib.pyplot as plt\n",
    "\n",
    "# Perform feature selection\n",
    "selector = SelectKBest(f_classif, k=5)\n",
    "selector.fit(enron_df[predictors], enron_df[\"poi\"])\n",
    "\n",
    "# Get the raw p-values for each feature, and transform from p-values into scores\n",
    "scores = -np.log10(selector.pvalues_)\n",
    "\n",
    "indices = np.argsort(scores)[::-1]\n",
    "\n",
    "sorted_important_features=[]\n",
    "for i in indices:\n",
    "    sorted_important_features.append(predictors[i])\n",
    "\n",
    "# Plot the scores.  \n",
    "plt.figure()\n",
    "plt.title(\"Feature Importances\")\n",
    "plt.bar(range(np.size(predictors)), scores[indices],\n",
    "       color=\"seagreen\", yerr=np.std([indices]), align=\"center\")\n",
    "plt.xticks(range(np.size(predictors)), sorted_important_features, rotation='vertical')\n",
    "\n",
    "plt.xlim([-1, np.size(predictors)])\n",
    "plt.show()\n"
   ]
  },
  {
   "cell_type": "code",
   "execution_count": null,
   "metadata": {
    "collapsed": true
   },
   "outputs": [],
   "source": []
  },
  {
   "cell_type": "markdown",
   "metadata": {},
   "source": [
    "Based on the above sorted importance value, drop columns of lower importance value. \n",
    "'salary_of_total_stock_value', 'other', 'from_messages', 'total_payments', 'to_messages'"
   ]
  },
  {
   "cell_type": "code",
   "execution_count": 34,
   "metadata": {
    "collapsed": true
   },
   "outputs": [],
   "source": [
    "# 13 features\n",
    "predictors = ['bonus', 'exercised_stock_options', 'expenses','from_poi_to_this_person', 'from_this_person_to_poi',\n",
    " 'restricted_stock', 'salary', 'shared_receipt_with_poi','total_stock_value', 'poi_ratio', 'fraction_to_poi',\n",
    " 'fraction_from_poi', 'salary_of_total_payments']\n",
    "\n",
    "# 8 features\n",
    "predictors_8 = ['bonus', 'exercised_stock_options', 'total_stock_value', 'fraction_to_poi',  'expenses', 'salary',\n",
    "              'shared_receipt_with_poi', 'poi_ratio' ]\n",
    "\n",
    "# 4 features\n",
    "predictors_4 = ['bonus', 'exercised_stock_options', 'total_stock_value', 'fraction_to_poi']\n"
   ]
  },
  {
   "cell_type": "code",
   "execution_count": null,
   "metadata": {
    "collapsed": true
   },
   "outputs": [],
   "source": []
  },
  {
   "cell_type": "code",
   "execution_count": 35,
   "metadata": {
    "collapsed": false
   },
   "outputs": [
    {
     "name": "stdout",
     "output_type": "stream",
     "text": [
      "[0 0 0 0 1 0 0 0 0 0 0 0 0 0 0 0 1 0 0 0 0 0 0 0 0 0 0 0 0 0 1 0 0 0 0 0 0\n",
      " 0 0 0 0 1 0 0 0 0 0 0 0 0 0 0 0 1 0 0 0 0 0 0 1 0 0 0 0 0 0 0 0 0 0 0 0 0\n",
      " 0 1 0 1 0 0 0 0 1 0 0 0 1 1 0 0 0 0 0 0 0 0 0 0 0 0 0 0 0 0 0 0 0 0 0 0 0\n",
      " 0 0 0 0 0 0 0 0 0 0 1 1 0 0 0 0 0 0 0 0 1 0 0 0 0 0 0 1 0 0 1]\n",
      "[[  6.00000000e+05   0.00000000e+00   9.42990000e+04 ...,   3.44827586e+00\n",
      "    4.70879802e+00   3.44489262e+01]\n",
      " [  1.20000000e+06   6.68054400e+06   1.12000000e+04 ...,   0.00000000e+00\n",
      "    0.00000000e+00   4.74060596e+00]\n",
      " [  3.50000000e+05   4.89034400e+06   7.85520000e+04 ...,   0.00000000e+00\n",
      "    0.00000000e+00   8.07372771e+01]\n",
      " ..., \n",
      " [  6.00000000e+05   3.18125000e+06   0.00000000e+00 ...,   0.00000000e+00\n",
      "    0.00000000e+00   2.42722596e+01]\n",
      " [  8.00000000e+05   7.65920000e+05   9.62680000e+04 ...,   5.00000000e+01\n",
      "    2.17341040e+01   3.18124829e+01]\n",
      " [  6.00000000e+05   3.84728000e+05   1.25978000e+05 ...,   3.75000000e+01\n",
      "    5.95647194e+00   2.16127060e+01]]\n"
     ]
    }
   ],
   "source": [
    "# Split the data at first on training and test data. We will use Stratified Shuffle Split due to small dataset\n",
    "labels = enron_df['poi'].copy(deep=True).astype(int).as_matrix()\n",
    "\n",
    "#features = enron_df['total_payments', 'total_stock_value', 'poi_ratio', 'fraction_to_poi', 'fraction_from_poi'].as_matrix()\n",
    "#features = (enron_df.drop('poi', axis=1)).fillna(0).copy(deep=True).as_matrix()\n",
    "features = (enron_df[predictors]).fillna(0).copy(deep=True).as_matrix()\n",
    "\n",
    "print labels\n",
    "print features\n"
   ]
  },
  {
   "cell_type": "markdown",
   "metadata": {},
   "source": [
    "#### Properly scale features (related mini-project: Lesson 9)\n",
    "\n",
    "If algorithm calls for scaled features, feature scaling is deployed."
   ]
  },
  {
   "cell_type": "code",
   "execution_count": null,
   "metadata": {
    "collapsed": false
   },
   "outputs": [],
   "source": [
    "# Scale feature 'salary'\n",
    "scaler = sklearn.preprocessing.MinMaxScaler(feature_range=(0, 100), copy=True)\n",
    "salary_scaled = scaler.fit_transform(enron_df['salary'])\n"
   ]
  },
  {
   "cell_type": "code",
   "execution_count": null,
   "metadata": {
    "collapsed": true
   },
   "outputs": [],
   "source": []
  },
  {
   "cell_type": "markdown",
   "metadata": {
    "collapsed": true
   },
   "source": [
    "### Pick and Tune an Algorithm"
   ]
  },
  {
   "cell_type": "markdown",
   "metadata": {},
   "source": [
    "#### Try out varity of classifiers (related mini-project: Lessons 1-3)\n",
    "\n",
    "<p>\n",
    "<div style=\"background-color:#f0f0f0\">Try a varity of classifier.  Please name your classifier clf for easy export below.  Note that if you want to do PCA or other multi-stage operations, you'll need to use Pipelines. For more info:\n",
    "http://scikit-learn.org/stable/modules/pipeline.html\n",
    "<p><p>\n",
    "At least 2 different algorithms are attempted and their performance is compared, with the more performant one used in the final analysis.</div>"
   ]
  },
  {
   "cell_type": "code",
   "execution_count": 36,
   "metadata": {
    "collapsed": false
   },
   "outputs": [
    {
     "name": "stdout",
     "output_type": "stream",
     "text": [
      "[ 0.83333333  0.91489362  0.80851064]\n",
      "GaussianNB mean score: 0.852245862884\n",
      "[ 0.875       0.89361702  0.89361702]\n",
      "SVC: 0.887411347518\n",
      "[ 0.83333333  0.85106383  0.89361702]\n",
      "ExtraTreesClassifier mean score: 0.859338061466\n",
      "[ 0.85416667  0.93617021  0.89361702]\n",
      "RandomForestClassifier mean score: 0.894651300236\n",
      "[ 0.85416667  0.85106383  0.80851064]\n",
      "AdaBoostClassifier mean score: 0.837913711584\n",
      "[ 0.66666667  0.76595745  0.82978723]\n",
      "LogisticRegression mean score: 0.754137115839\n",
      "[ 0.83333333  0.91489362  0.85106383]\n",
      "LinearSVC mean score: 0.866430260047\n"
     ]
    }
   ],
   "source": [
    "# Try GaussianNB\n",
    "from sklearn.naive_bayes import GaussianNB\n",
    "gnb_clf = GaussianNB()\n",
    "scores = sklearn.cross_validation.cross_val_score(gnb_clf, enron_df[predictors_8], labels)\n",
    "print scores\n",
    "print 'GaussianNB mean score:', scores.mean()\n",
    "\n",
    "# features, scores.mean()\n",
    "# 13, 0.817080378251\n",
    "# 4, 0.86628250591\n",
    "# 8, 0.852245862884\n",
    "\n",
    "# Try SVC\n",
    "from sklearn.svm import SVC\n",
    "svc_clf = SVC()\n",
    "scores = sklearn.cross_validation.cross_val_score(svc_clf, enron_df[predictors_8], labels)\n",
    "print scores\n",
    "print 'SVC:', scores.mean()\n",
    "\n",
    "# features, scores.mean()\n",
    "# 13, 0.887411347518\n",
    "# 4, 0.887411347518\n",
    "# 8, 0.887411347518\n",
    "\n",
    "# Try ExtraTreesClassifier\n",
    "from sklearn.ensemble import ExtraTreesClassifier\n",
    "erf_clf = ExtraTreesClassifier(n_estimators=10, max_depth=None, min_samples_split=2, random_state=0)\n",
    "scores = sklearn.cross_validation.cross_val_score(erf_clf, enron_df[predictors_8], labels)\n",
    "print scores\n",
    "print 'ExtraTreesClassifier mean score:', scores.mean()\n",
    "\n",
    "# features, scores.mean()\n",
    "# 13, 0.880319148936\n",
    "# 4, 0.873522458629\n",
    "# 8, 0.859338061466\n",
    "\n",
    "# Try RandomForestClassifier\n",
    "from sklearn.ensemble import RandomForestClassifier\n",
    "rf_clf = RandomForestClassifier(n_estimators=10)\n",
    "scores = sklearn.cross_validation.cross_val_score(rf_clf, enron_df[predictors_8], labels)\n",
    "print scores\n",
    "print 'RandomForestClassifier mean score:', scores.mean()\n",
    "\n",
    "# features, scores.mean()\n",
    "# 13, 0.86628250591\n",
    "# 4, 0.880319148936\n",
    "# 8, 0.873226950355\n",
    "\n",
    "# Try AdaBoostClassifier\n",
    "from sklearn.ensemble import AdaBoostClassifier\n",
    "ab_clf = AdaBoostClassifier(n_estimators=100)\n",
    "scores = sklearn.cross_validation.cross_val_score(ab_clf, enron_df[predictors_8], labels)\n",
    "print scores \n",
    "print 'AdaBoostClassifier mean score:', scores.mean()\n",
    "\n",
    "# features, scores.mean()\n",
    "# 13, 0.845005910165\n",
    "# 4, 0.831117021277\n",
    "# 8, 0.837913711584\n",
    "\n",
    "# Try Logistic Regression\n",
    "from sklearn.linear_model import LogisticRegression\n",
    "lreg_clf = LogisticRegression()\n",
    "scores = sklearn.cross_validation.cross_val_score(lreg_clf, enron_df[predictors_8], labels)\n",
    "print scores \n",
    "print 'LogisticRegression mean score:', scores.mean()\n",
    "\n",
    "# features, scores.mean()\n",
    "# 8,        0.754137115839\n",
    "\n",
    "# Try LinearSVC\n",
    "from sklearn.svm import LinearSVC\n",
    "lsvc_clf = LinearSVC()\n",
    "scores = sklearn.cross_validation.cross_val_score(lsvc_clf, enron_df[predictors_8], labels)\n",
    "print scores \n",
    "print 'LinearSVC mean score:', scores.mean()\n",
    "\n",
    "# features, scores.mean()\n",
    "# 8,        0.621453900709"
   ]
  },
  {
   "cell_type": "markdown",
   "metadata": {},
   "source": [
    "\n",
    "Comparing Classifiers based on cross validation scores:\n",
    "\n",
    "1st Tier: SVC, RandomForestClassifier \n",
    "\n",
    "2nd Tier: GaussianNB, ExtraTreesClassifier, AdaBoostClassifier\n",
    "\n",
    "3st Tier: LogisticRegression, LinearSVC\n"
   ]
  },
  {
   "cell_type": "markdown",
   "metadata": {},
   "source": [
    "#### Univariate feature selection with F-test for feature scoring \n",
    "<p>\n",
    "<div style=\"background-color:#f0f0f0\">using the default selection function: the 10% most significant features</div>"
   ]
  },
  {
   "cell_type": "code",
   "execution_count": 37,
   "metadata": {
    "collapsed": false
   },
   "outputs": [
    {
     "data": {
      "text/plain": [
       "<Container object of 13 artists>"
      ]
     },
     "execution_count": 37,
     "metadata": {},
     "output_type": "execute_result"
    },
    {
     "data": {
      "image/png": "[encoded data removed]",
      "text/plain": [
       "<matplotlib.figure.Figure at 0x1183c7a90>"
      ]
     },
     "metadata": {},
     "output_type": "display_data"
    }
   ],
   "source": [
    "# Univariate feature selection with SelectPercentile\n",
    "import matplotlib.pyplot as plt\n",
    "from sklearn.feature_selection import SelectPercentile, f_classif\n",
    "\n",
    "selector = SelectPercentile(f_classif, percentile=10)\n",
    "selector.fit(features, labels)\n",
    "scores = -np.log10(selector.pvalues_)\n",
    "scores /= scores.max()\n",
    "\n",
    "X_indices = np.arange(features.shape[-1])\n",
    "plt.bar(X_indices - .45, scores, width=.2,\n",
    "        label=r'Univariate score ($-Log(p_{value})$)', color='darkorange')\n"
   ]
  },
  {
   "cell_type": "code",
   "execution_count": null,
   "metadata": {
    "collapsed": true
   },
   "outputs": [],
   "source": []
  },
  {
   "cell_type": "code",
   "execution_count": null,
   "metadata": {
    "collapsed": false
   },
   "outputs": [
    {
     "name": "stdout",
     "output_type": "stream",
     "text": [
      "Fitting 3 folds for each of 18 candidates, totalling 54 fits\n",
      "[CV] features__pca__n_components=1, svm__C=0.1, features__univ_select__k=1 \n"
     ]
    }
   ],
   "source": [
    "# use FeatureUnion to combine features obtained by PCA and univariate selection ?????\n",
    "\n",
    "from sklearn.pipeline import Pipeline, FeatureUnion\n",
    "from sklearn.model_selection import GridSearchCV\n",
    "from sklearn.svm import SVC\n",
    "from sklearn.decomposition import PCA\n",
    "from sklearn.feature_selection import SelectKBest\n",
    "\n",
    "# This dataset is way too high-dimensional. Better do PCA:\n",
    "pca = PCA(n_components=8)\n",
    "\n",
    "# Maybe some original features where good, too?\n",
    "selection = SelectKBest(k=4)\n",
    "\n",
    "# Build estimator from PCA and Univariate selection:\n",
    "combined_features = FeatureUnion([(\"pca\", pca), (\"univ_select\", selection)])\n",
    "\n",
    "# Use combined features to transform dataset:\n",
    "X_features = combined_features.fit(features, labels).transform(features)\n",
    "\n",
    "svm = SVC(kernel=\"linear\")\n",
    "\n",
    "# Do grid search over k, n_components and C:\n",
    "pipeline = Pipeline([(\"features\", combined_features), (\"svm\", svm)])\n",
    "\n",
    "param_grid = dict(features__pca__n_components=[1, 2, 3],\n",
    "                  features__univ_select__k=[1, 2],\n",
    "                  svm__C=[0.1, 1, 10])\n",
    "\n",
    "grid_search = GridSearchCV(pipeline, param_grid=param_grid, verbose=10)\n",
    "grid_search.fit(features, labels)\n",
    "print(grid_search.best_estimator_)\n",
    "\n",
    "#print(grid_search.best_estimator_.steps)\n",
    "\n",
    "#for step in grid_search.best_estimator_.steps:\n",
    "#    print(type(step))\n",
    "#    print(step.get_params())"
   ]
  },
  {
   "cell_type": "code",
   "execution_count": null,
   "metadata": {
    "collapsed": true
   },
   "outputs": [],
   "source": [
    "# Get the score of the above ?????\n",
    "#scores = sklearn.cross_validation.cross_val_score(svm, X_features, labels)\n",
    "#print 'Linear SVC after PCA mean score:', scores.mean()"
   ]
  },
  {
   "cell_type": "markdown",
   "metadata": {
    "collapsed": true
   },
   "source": [
    "The pipeline provides a handy tool called the FeatureUnion which allows the results of multiple feature selection and extraction procedures to be combined into a larger dataset on which a model can be trained. Importantly, all the feature extraction and the feature union occurs within each fold of the cross validation procedure.  The pipeline is then evaluated using 10-fold cross validation."
   ]
  },
  {
   "cell_type": "code",
   "execution_count": 38,
   "metadata": {
    "collapsed": false
   },
   "outputs": [
    {
     "name": "stderr",
     "output_type": "stream",
     "text": [
      "/Users/LiWang/anaconda/lib/python2.7/site-packages/sklearn/grid_search.py:43: DeprecationWarning: This module was deprecated in version 0.18 in favor of the model_selection module into which all the refactored classes and functions are moved. This module will be removed in 0.20.\n",
      "  DeprecationWarning)\n"
     ]
    },
    {
     "name": "stdout",
     "output_type": "stream",
     "text": [
      "Pipeline(steps=[('feature_union', FeatureUnion(n_jobs=1,\n",
      "       transformer_list=[('pca', PCA(copy=True, iterated_power='auto', n_components=4, random_state=None,\n",
      "  svd_solver='auto', tol=0.0, whiten=False)), ('select_best', SelectKBest(k=8, score_func=<function f_classif at 0x1183b6ed8>))],\n",
      "       transform...,\n",
      "  max_iter=-1, probability=False, random_state=None, shrinking=True,\n",
      "  tol=0.001, verbose=False))])\n",
      "rbfSVC mean score: 0.886666666667\n"
     ]
    }
   ],
   "source": [
    "# Create a pipeline that extracts features from the data using PCA and SelectKBest then creates a model_SVC\n",
    "\n",
    "from pandas import read_csv\n",
    "from sklearn.model_selection import KFold\n",
    "from sklearn.model_selection import cross_val_score\n",
    "from sklearn.pipeline import Pipeline\n",
    "from sklearn.pipeline import FeatureUnion\n",
    "from sklearn.linear_model import LogisticRegression\n",
    "from sklearn.decomposition import PCA\n",
    "from sklearn.feature_selection import SelectKBest\n",
    "from sklearn.svm import SVC\n",
    "from sklearn.grid_search import GridSearchCV\n",
    "\n",
    "# create feature union\n",
    "features_pipeline = []\n",
    "features_pipeline.append(('pca', PCA(n_components=4)))\n",
    "features_pipeline.append(('select_best', SelectKBest(k=8)))\n",
    "feature_union = FeatureUnion(features_pipeline)\n",
    "\n",
    "# create pipeline for rbfSVC\n",
    "estimators = []\n",
    "estimators.append(('feature_union', feature_union))\n",
    "#estimators.append(('logistic', LogisticRegression()))\n",
    "estimators.append(('svc', SVC(kernel='rbf', class_weight='balanced')))\n",
    "model_svc = Pipeline(estimators)\n",
    "\n",
    "#print sorted(model_svc.get_params().keys())\n",
    "# ['feature_union', 'feature_union__n_jobs', 'feature_union__pca', 'feature_union__pca__copy', \n",
    "# 'feature_union__pca__iterated_power', 'feature_union__pca__n_components', 'feature_union__pca__random_state', \n",
    "# 'feature_union__pca__svd_solver', 'feature_union__pca__tol', 'feature_union__pca__whiten', \n",
    "# 'feature_union__select_best', 'feature_union__select_best__k', 'feature_union__select_best__score_func', \n",
    "# 'feature_union__transformer_list', 'feature_union__transformer_weights', 'steps', \n",
    "# 'svc', 'svc__C', 'svc__cache_size', 'svc__class_weight', 'svc__coef0', 'svc__decision_function_shape', \n",
    "# 'svc__degree', 'svc__gamma', 'svc__kernel', 'svc__max_iter', 'svc__probability', 'svc__random_state', \n",
    "# 'svc__shrinking', 'svc__tol', 'svc__verbose']\n",
    "\n",
    "# find best fitting parameter\n",
    "param_grid = {\n",
    "            'svc__C': [1e3, 5e3, 1e4, 5e4, 1e5],\n",
    "            'svc__gamma': [0.0001, 0.0005, 0.001, 0.005, 0.01, 0.1 ],\n",
    "            'svc__degree': [1, 2, 3, 4, 5]\n",
    "}\n",
    "\n",
    "grid_svc = GridSearchCV(model_svc, param_grid)\n",
    "grid_svc = grid_svc.fit(features, labels)\n",
    "print grid_svc.best_estimator_\n",
    "\n",
    "# best fitting svc_clf\n",
    "best_svc_pipe = grid_svc.best_estimator_ \n",
    "\n",
    "# evaluate pipeline for rbfSVC\n",
    "seed = 7\n",
    "kfold = KFold(n_splits=10, random_state=seed)\n",
    "scores_svc = cross_val_score(model_svc, enron_df[predictors], labels, cv=kfold)\n",
    "print 'rbfSVC mean score:', scores_svc.mean()\n",
    "\n",
    "# rbfSVC mean score:\n",
    "# 0.886666666667\n",
    "\n",
    "\n"
   ]
  },
  {
   "cell_type": "code",
   "execution_count": null,
   "metadata": {
    "collapsed": true
   },
   "outputs": [],
   "source": []
  },
  {
   "cell_type": "code",
   "execution_count": 39,
   "metadata": {
    "collapsed": false
   },
   "outputs": [
    {
     "name": "stdout",
     "output_type": "stream",
     "text": [
      "Pipeline(steps=[('feature_union', FeatureUnion(n_jobs=1,\n",
      "       transformer_list=[('pca', PCA(copy=True, iterated_power='auto', n_components=4, random_state=None,\n",
      "  svd_solver='auto', tol=0.0, whiten=False)), ('select_best', SelectKBest(k=8, score_func=<function f_classif at 0x1183b6ed8>))],\n",
      "       transform...imators=10, n_jobs=1, oob_score=False, random_state=None,\n",
      "            verbose=0, warm_start=False))])\n",
      "RandomForest mean score: 0.872380952381\n"
     ]
    }
   ],
   "source": [
    "# create pipeline for RandomForest\n",
    "\n",
    "from sklearn.ensemble import RandomForestClassifier\n",
    "\n",
    "estimators = []\n",
    "estimators.append(('feature_union', feature_union))\n",
    "#estimators.append(('logistic', LogisticRegression()))\n",
    "estimators.append(('RandomForest', RandomForestClassifier()))\n",
    "model_rf = Pipeline(estimators)\n",
    "\n",
    "#print sorted(model_rf.get_params().keys())\n",
    "#['RandomForest', 'RandomForest__bootstrap', 'RandomForest__class_weight', 'RandomForest__criterion', \n",
    "#'RandomForest__max_depth', 'RandomForest__max_features', 'RandomForest__max_leaf_nodes', \n",
    "#'RandomForest__min_impurity_split', 'RandomForest__min_samples_leaf', 'RandomForest__min_samples_split', \n",
    "#'RandomForest__min_weight_fraction_leaf', 'RandomForest__n_estimators', 'RandomForest__n_jobs', \n",
    "#'RandomForest__oob_score', 'RandomForest__random_state', 'RandomForest__verbose', 'RandomForest__warm_start', \n",
    "#'feature_union', 'feature_union__n_jobs', 'feature_union__pca', 'feature_union__pca__copy', \n",
    "#'feature_union__pca__iterated_power', 'feature_union__pca__n_components', 'feature_union__pca__random_state', \n",
    "#'feature_union__pca__svd_solver', 'feature_union__pca__tol', 'feature_union__pca__whiten', \n",
    "#'feature_union__select_best', 'feature_union__select_best__k', 'feature_union__select_best__score_func', \n",
    "#'feature_union__transformer_list', 'feature_union__transformer_weights', 'steps']\n",
    "\n",
    "\n",
    "# find best fitting parameter\n",
    "param_grid = {'RandomForest__n_estimators': [10,20,30,40,50],\n",
    "               'RandomForest__min_samples_split' :[2,3,4,5],\n",
    "               'RandomForest__min_samples_leaf' : [1,2,3]\n",
    "             }\n",
    "\n",
    "grid_rf = GridSearchCV(model_rf, param_grid)\n",
    "grid_rf = grid_rf.fit(features, labels)\n",
    "print grid_rf.best_estimator_\n",
    "\n",
    "# best fitting svc_clf\n",
    "best_rf_pipe = grid_rf.best_estimator_ \n",
    "\n",
    "\n",
    "# evaluate pipeline for rf\n",
    "seed = 7\n",
    "kfold = KFold(n_splits=10, random_state=seed)\n",
    "scores_rf = cross_val_score(model_rf, enron_df[predictors], labels, cv=kfold)\n",
    "print 'RandomForest mean score:', scores_rf.mean()\n",
    "\n",
    "# RandomForest mean score:\n",
    "# 0.872380952381"
   ]
  },
  {
   "cell_type": "markdown",
   "metadata": {},
   "source": [
    "#### Discuss parameter tuning and its importance.\n",
    "\n",
    "<p>\n",
    "<div style=\"background-color:#f0f0f0\">Response addresses what it means to perform parameter tuning and why it is important.</div>"
   ]
  },
  {
   "cell_type": "markdown",
   "metadata": {},
   "source": [
    "Algorithms may perform differently using different parameters depending on the structure of your data. If you don’t do this well, you can over-tune an algorithm to predict your training data extremely well, \n",
    "but fail miserably on unseen data."
   ]
  },
  {
   "cell_type": "markdown",
   "metadata": {},
   "source": [
    "#### Tune the algorithm (related mini-project: Lessons 2, 3, 13)\n",
    "\n",
    "<p>\n",
    "<div style=\"background-color:#f0f0f0\">At least one important parameter tuned with at least 3 settings investigated systematically, or any of the following are true:\n",
    "<p><p>\n",
    "GridSearchCV used for parameter tuning,<p>\n",
    "Several parameters tuned,<p>\n",
    "Parameter tuning incorporated into algorithm selection (i.e. parameters tuned for more than one algorithm, and best algorithm-tune combination selected for final analysis).</div>"
   ]
  },
  {
   "cell_type": "code",
   "execution_count": 64,
   "metadata": {
    "collapsed": false
   },
   "outputs": [
    {
     "name": "stdout",
     "output_type": "stream",
     "text": [
      "features_transformed[0]: [-2506859.0949976    293144.67073684    57877.13636437   198705.96409751]\n",
      "features_pca[0]: [  2.49554034e-02   6.25367378e-01   8.39959560e-04   1.10822385e-06\n",
      "   4.25848400e-07   1.44191017e-01   7.10858298e-03   9.51787674e-06\n",
      "   7.66453249e-01   5.17628083e-09   2.08830520e-08   1.04464719e-08\n",
      "   8.33085929e-07]\n",
      "SVC(C=1000.0, cache_size=200, class_weight='balanced', coef0=0.0,\n",
      "  decision_function_shape=None, degree=1, gamma=0.0001, kernel='rbf',\n",
      "  max_iter=-1, probability=False, random_state=None, shrinking=True,\n",
      "  tol=0.001, verbose=False)\n",
      "SVC after PCA mean score: 0.887411347518\n",
      "[0 0 0 0 1 0 0 0 0 0 0 0 0 0 0 0 1 0 0 0 0 0 0 0 0 0 0 0 0 0 1 0 0 0 0 0 0\n",
      " 0 0 0 0 1 0 0 0 0 0 0 0 0 0 0 0 1 0 0 0 0 0 0 1 0 0 0 0 0 0 0 0 0 0 0 0 0\n",
      " 0 1 0 1 0 0 0 0 1 0 0 0 1 1 0 0 0 0 0 0 0 0 0 0 0 0 0 0 0 0 0 0 0 0 0 0 0\n",
      " 0 0 0 0 0 0 0 0 0 0 1 1 0 0 0 0 0 0 0 0 1 0 0 0 0 0 0 1 0 0 1]\n"
     ]
    }
   ],
   "source": [
    "# Find best fit param for rbf SVM with PCA and cross validation\n",
    "\n",
    "from sklearn.decomposition import PCA\n",
    "from sklearn.grid_search import GridSearchCV\n",
    "\n",
    "# Compute a PCA\n",
    "n_comp = 4\n",
    "pca = PCA(n_components=n_comp).fit(features)\n",
    "features_transformed = pca.transform(features)\n",
    "features_pca = pca.components_\n",
    "print 'features_transformed[0]:', features_transformed[0]\n",
    "print 'features_pca[0]:', features_pca[0]\n",
    "\n",
    "# Train a SVM classification model\n",
    "param_grid = {\n",
    "            'C': [1e3, 5e3, 1e4, 5e4, 1e5],\n",
    "            'gamma': [0.0001, 0.0005, 0.001, 0.005, 0.01, 0.1 ],\n",
    "            'degree': [1, 2, 3, 4, 5]\n",
    "}\n",
    "clf = GridSearchCV(SVC(kernel='rbf', class_weight='balanced'), param_grid)\n",
    "clf = clf.fit(features_transformed, labels)\n",
    "pred_svc = clf.predict(features_transformed)\n",
    "\n",
    "print clf.best_estimator_\n",
    "best_svc_clf = clf.best_estimator_ \n",
    "\n",
    "\n",
    "scores = sklearn.cross_validation.cross_val_score(best_svc_clf, features, labels)\n",
    "print 'SVC after PCA mean score:', scores.mean()\n",
    "\n",
    "# n_comp, Mean score\n",
    "# 8, 0.887411347518\n",
    "# 4, 0.887411347518\n",
    "\n",
    "pred_svc = SVC(C=1000.0, cache_size=200, class_weight='balanced', coef0=0.0,\n",
    "  decision_function_shape=None, degree=1, gamma=0.0001, kernel='rbf',\n",
    "  max_iter=-1, probability=False, random_state=None, shrinking=True,\n",
    "  tol=0.001, verbose=False).fit(features_transformed, labels).predict(features_transformed)\n",
    "\n",
    "print pred_svc"
   ]
  },
  {
   "cell_type": "code",
   "execution_count": null,
   "metadata": {
    "collapsed": true
   },
   "outputs": [],
   "source": []
  },
  {
   "cell_type": "code",
   "execution_count": 41,
   "metadata": {
    "collapsed": false
   },
   "outputs": [
    {
     "name": "stdout",
     "output_type": "stream",
     "text": [
      "RandomForest mean score: 0.887411347518\n"
     ]
    }
   ],
   "source": [
    "# get the best fitting parameters for RandomForest\n",
    "#from sklearn.model_selection import KFold\n",
    "from sklearn.decomposition import PCA\n",
    "from sklearn.grid_search import GridSearchCV\n",
    "\n",
    "# Compute a PCA\n",
    "#n_comp = 8\n",
    "#pca = PCA(n_components=n_comp).fit(features)\n",
    "#features_pca = pca.transform(features)\n",
    "\n",
    "#cv = KFold(n_splits=5)\n",
    "\n",
    "parameters = {'n_estimators': [10,20,30,40,50],\n",
    "               'min_samples_split' :[2,3,4,5],\n",
    "               'min_samples_leaf' : [1,2,3]\n",
    "             }\n",
    "\n",
    "rf_clf = RandomForestClassifier()\n",
    "grid_obj = GridSearchCV(rf_clf, parameters)\n",
    "grid_fit = grid_obj.fit(features_pca, labels)\n",
    "\n",
    "best_rf_clf = grid_fit.best_estimator_ \n",
    "\n",
    "best_rf_clf.fit(features,labels)\n",
    "\n",
    "scores = sklearn.cross_validation.cross_val_score(clf, features, labels)\n",
    "print 'RandomForest mean score:', scores.mean()\n",
    "\n",
    "# Mean score\n",
    "# 0.887411347518"
   ]
  },
  {
   "cell_type": "code",
   "execution_count": null,
   "metadata": {
    "collapsed": true
   },
   "outputs": [],
   "source": []
  },
  {
   "cell_type": "markdown",
   "metadata": {},
   "source": [
    "### Validate and Evaluate"
   ]
  },
  {
   "cell_type": "markdown",
   "metadata": {},
   "source": [
    "#### Discuss validation and its importance.\n",
    "\n",
    "<p>\n",
    "<div style=\"background-color:#f0f0f0\">Response addresses what validation is and why it is important.</div>"
   ]
  },
  {
   "cell_type": "markdown",
   "metadata": {},
   "source": [
    "Validation is the processed of checking to see how your model performs on unseen data. A classic mistake would \n",
    "be tuning your model be able to predict your training data very well , but then having it perform poorly on unseen \n",
    "out-of-sample testing data. This is called overfitting. One of the major goals in validation is to avoid overfitting, \n",
    "which can be accomplished through a process called cross-validation."
   ]
  },
  {
   "cell_type": "markdown",
   "metadata": {},
   "source": [
    "#### Usage of Evaluation Metrics (related mini-project: Lesson 14)\n",
    "<p>\n",
    "<div style=\"background-color:#f0f0f0\">At least two appropriate metrics are used to evaluate algorithm performance (e.g. precision and recall), and the student articulates what those metrics measure in context of the project task.</div>"
   ]
  },
  {
   "cell_type": "markdown",
   "metadata": {},
   "source": [
    "Precision = TruePositive / (TruePositive + FalsePositive)<p><p>\n",
    "Precision can be thought of as the ratio of how often your model is actually correct in identifying a positive label to the total times it guesses a positive label. A higher precision score would mean less false positives.\n",
    "\n",
    "Recall = (TruePositive) / (TruePositive + FalseNegative) <p><p>\n",
    "Recall can be thought of as the ratio of how often your model correctly identifies a label as positive to how many total positive labels there actually are. A higher recall score would mean less false negatives."
   ]
  },
  {
   "cell_type": "markdown",
   "metadata": {},
   "source": [
    "#### Validation Strategy (related mini-project: Lesson 13)\n",
    "<p>\n",
    "<div style=\"background-color:#f0f0f0\">Performance of the final algorithm selected is assessed by splitting the data into training and testing sets or through the use of cross validation, noting the specific type of validation performed. Tune your classifier to achieve better than .3 precision and recall using our testing script. \n",
    "<p><p>\n",
    "Check the tester.py script in the final project folder for details on the evaluation method, especially the test_classifier function. Because of the small size of the dataset, the script uses stratified shuffle split cross validation.</div> "
   ]
  },
  {
   "cell_type": "code",
   "execution_count": 66,
   "metadata": {
    "collapsed": true
   },
   "outputs": [],
   "source": [
    "# use features transformed by PCA\n",
    "from sklearn.cross_validation import train_test_split\n",
    "features_train, features_test, labels_train, labels_test = train_test_split(features_transformed, labels, test_size=0.3, random_state=42)"
   ]
  },
  {
   "cell_type": "code",
   "execution_count": 50,
   "metadata": {
    "collapsed": true
   },
   "outputs": [],
   "source": [
    "from sklearn.metrics import accuracy_score\n",
    "from sklearn.metrics import precision_score\n",
    "from sklearn.metrics import recall_score\n"
   ]
  },
  {
   "cell_type": "code",
   "execution_count": 73,
   "metadata": {
    "collapsed": false
   },
   "outputs": [
    {
     "name": "stdout",
     "output_type": "stream",
     "text": [
      "[-2506859.0949976    293144.67073684    57877.13636437   198705.96409751]\n"
     ]
    },
    {
     "data": {
      "text/plain": [
       "False"
      ]
     },
     "execution_count": 73,
     "metadata": {},
     "output_type": "execute_result"
    }
   ],
   "source": [
    "print features_transformed[0]\n",
    "enron_df['poi'].tolist()[0]"
   ]
  },
  {
   "cell_type": "code",
   "execution_count": 81,
   "metadata": {
    "collapsed": false
   },
   "outputs": [
    {
     "name": "stdout",
     "output_type": "stream",
     "text": [
      "OrderedDict([('poi', False), ('comp_1', -2506859.0949976011), ('comp_2', 293144.67073683999), ('comp_3', 57877.136364365135), ('comp_4', 198705.9640975107)])\n"
     ]
    }
   ],
   "source": [
    "# prepare parameters for dump_classifier \n",
    "\n",
    "#from collections import OrderedDict\n",
    "\n",
    "# available choice for clf_dump: best_svc_grid, best_svc_clf, best_rf_grid, best_rf_clf\n",
    "clf_dump = best_svc_clf\n",
    "\n",
    "#features_list = list(df_imp_sub.columns.values)\n",
    "#features_list = predictors\n",
    "#features_list = ['salary', 'to_messages', 'salary_of_total_payments', 'total_payments', 'fraction_from_poi', \n",
    "#                 'bonus', 'poi_ratio', 'total_stock_value', 'expenses', 'fraction_to_poi', 'exercised_stock_options', \n",
    "#                 'from_messages', 'other', 'from_this_person_to_poi', 'salary_of_total_stock_value', \n",
    "#                 'shared_receipt_with_poi', 'restricted_stock', 'from_poi_to_this_person']\n",
    "\n",
    "features_list = ['comp_1', 'comp_2', 'comp_3', 'comp_4']\n",
    "poi_list = enron_df['poi'].tolist()\n",
    "\n",
    "#data = enron_df[features_list].fillna(0).to_dict(orient='records')\n",
    "#data_dict = enron_df.to_dict(orient='records')\n",
    "#data_dict = features_pca.to_dict()\n",
    "data_list = features_transformed\n",
    "\n",
    "my_dataset = {}\n",
    "\n",
    "i = 0\n",
    "for item in data_list:\n",
    "    elem_dict = OrderedDict()\n",
    "    elem_dict['poi'] = poi_list[i]\n",
    "    for j in range(len(features_list)):\n",
    "        elem_dict[features_list[j]] = data_list[i][j]    \n",
    "    my_dataset[i] = elem_dict\n",
    "    i += 1\n",
    "\n",
    "print my_dataset[0]  "
   ]
  },
  {
   "cell_type": "code",
   "execution_count": 82,
   "metadata": {
    "collapsed": false
   },
   "outputs": [
    {
     "name": "stdout",
     "output_type": "stream",
     "text": [
      "Validating algorithm:\n",
      "accuracy after tuning =  1.0\n",
      "precision =  1.0\n",
      "recall =  1.0\n"
     ]
    }
   ],
   "source": [
    "pred = best_svc_clf.predict(features_test)\n",
    "acc = accuracy_score(labels_test, pred)\n",
    "\n",
    "print \"Validating algorithm:\"\n",
    "print \"accuracy after tuning = \", acc\n",
    "\n",
    "# function for calculation ratio of true positives\n",
    "# out of all positives (true + false)\n",
    "print 'precision = ', precision_score(labels_test,pred)\n",
    "\n",
    "# function for calculation ratio of true positives\n",
    "# out of true positives and false negatives\n",
    "print 'recall = ', recall_score(labels_test,pred)\n"
   ]
  },
  {
   "cell_type": "code",
   "execution_count": 84,
   "metadata": {
    "collapsed": false
   },
   "outputs": [
    {
     "name": "stdout",
     "output_type": "stream",
     "text": [
      "['poi', 'comp_1', 'comp_2', 'comp_3', 'comp_4']\n"
     ]
    }
   ],
   "source": [
    "print my_dataset[0].keys()"
   ]
  },
  {
   "cell_type": "code",
   "execution_count": 88,
   "metadata": {
    "collapsed": false
   },
   "outputs": [
    {
     "name": "stdout",
     "output_type": "stream",
     "text": [
      "142\n"
     ]
    },
    {
     "ename": "ValueError",
     "evalue": "The least populated class in y has only 1 member, which is too few. The minimum number of labels for any class cannot be less than 2.",
     "output_type": "error",
     "traceback": [
      "\u001b[0;31m---------------------------------------------------------------------------\u001b[0m",
      "\u001b[0;31mValueError\u001b[0m                                Traceback (most recent call last)",
      "\u001b[0;32m<ipython-input-88-64f48549c6f3>\u001b[0m in \u001b[0;36m<module>\u001b[0;34m()\u001b[0m\n\u001b[0;32m----> 1\u001b[0;31m \u001b[0mtest_classifier\u001b[0m\u001b[0;34m(\u001b[0m\u001b[0mclf_dump\u001b[0m\u001b[0;34m,\u001b[0m \u001b[0mmy_dataset\u001b[0m\u001b[0;34m,\u001b[0m \u001b[0mfeatures_list\u001b[0m\u001b[0;34m)\u001b[0m\u001b[0;34m\u001b[0m\u001b[0m\n\u001b[0m",
      "\u001b[0;32m/Users/LiWang/Documents/workspace/OnlineLearning/Udacity/DataAnalyst/Intro-machine-learning/ud120-projects-master/final_project/tester.py\u001b[0m in \u001b[0;36mtest_classifier\u001b[0;34m(clf, dataset, feature_list, folds)\u001b[0m\n\u001b[1;32m     28\u001b[0m     \u001b[0mlabels\u001b[0m\u001b[0;34m,\u001b[0m \u001b[0mfeatures\u001b[0m \u001b[0;34m=\u001b[0m \u001b[0mtargetFeatureSplit\u001b[0m\u001b[0;34m(\u001b[0m\u001b[0mdata\u001b[0m\u001b[0;34m)\u001b[0m\u001b[0;34m\u001b[0m\u001b[0m\n\u001b[1;32m     29\u001b[0m     \u001b[0;32mprint\u001b[0m \u001b[0mlen\u001b[0m\u001b[0;34m(\u001b[0m\u001b[0mlabels\u001b[0m\u001b[0;34m)\u001b[0m\u001b[0;34m\u001b[0m\u001b[0m\n\u001b[0;32m---> 30\u001b[0;31m \u001b[0;34m\u001b[0m\u001b[0m\n\u001b[0m\u001b[1;32m     31\u001b[0m     \u001b[0mcv\u001b[0m \u001b[0;34m=\u001b[0m \u001b[0mStratifiedShuffleSplit\u001b[0m\u001b[0;34m(\u001b[0m\u001b[0mlabels\u001b[0m\u001b[0;34m,\u001b[0m \u001b[0mfolds\u001b[0m\u001b[0;34m,\u001b[0m \u001b[0mrandom_state\u001b[0m \u001b[0;34m=\u001b[0m \u001b[0;36m42\u001b[0m\u001b[0;34m)\u001b[0m\u001b[0;34m\u001b[0m\u001b[0m\n\u001b[1;32m     32\u001b[0m     \u001b[0mtrue_negatives\u001b[0m \u001b[0;34m=\u001b[0m \u001b[0;36m0\u001b[0m\u001b[0;34m\u001b[0m\u001b[0m\n",
      "\u001b[0;32m/Users/LiWang/anaconda/lib/python2.7/site-packages/sklearn/cross_validation.pyc\u001b[0m in \u001b[0;36m__init__\u001b[0;34m(self, y, n_iter, test_size, train_size, random_state)\u001b[0m\n\u001b[1;32m   1065\u001b[0m \u001b[0;34m\u001b[0m\u001b[0m\n\u001b[1;32m   1066\u001b[0m         \u001b[0;32mif\u001b[0m \u001b[0mnp\u001b[0m\u001b[0;34m.\u001b[0m\u001b[0mmin\u001b[0m\u001b[0;34m(\u001b[0m\u001b[0mbincount\u001b[0m\u001b[0;34m(\u001b[0m\u001b[0mself\u001b[0m\u001b[0;34m.\u001b[0m\u001b[0my_indices\u001b[0m\u001b[0;34m)\u001b[0m\u001b[0;34m)\u001b[0m \u001b[0;34m<\u001b[0m \u001b[0;36m2\u001b[0m\u001b[0;34m:\u001b[0m\u001b[0;34m\u001b[0m\u001b[0m\n\u001b[0;32m-> 1067\u001b[0;31m             raise ValueError(\"The least populated class in y has only 1\"\n\u001b[0m\u001b[1;32m   1068\u001b[0m                              \u001b[0;34m\" member, which is too few. The minimum\"\u001b[0m\u001b[0;34m\u001b[0m\u001b[0m\n\u001b[1;32m   1069\u001b[0m                              \u001b[0;34m\" number of labels for any class cannot\"\u001b[0m\u001b[0;34m\u001b[0m\u001b[0m\n",
      "\u001b[0;31mValueError\u001b[0m: The least populated class in y has only 1 member, which is too few. The minimum number of labels for any class cannot be less than 2."
     ]
    }
   ],
   "source": [
    "#  last one to conquer\n",
    "test_classifier(clf_dump, my_dataset, features_list)"
   ]
  },
  {
   "cell_type": "code",
   "execution_count": null,
   "metadata": {
    "collapsed": true
   },
   "outputs": [],
   "source": []
  },
  {
   "cell_type": "markdown",
   "metadata": {},
   "source": [
    "### Dump your classifier, dataset, and features_list for checking\n",
    "\n",
    "<p>\n",
    "<div style=\"background-color:#f0f0f0\">Dump your classifier, dataset, and features_list so anyone cancheck your results. You do not need to change anything below, but make sure that the version of poi_id.py that you submit can be run on its own and generates the necessary .pkl files for validating your results.</div>\n"
   ]
  },
  {
   "cell_type": "code",
   "execution_count": 92,
   "metadata": {
    "collapsed": false
   },
   "outputs": [],
   "source": [
    "pickle.dump(clf_dump, open(\"my_classifier.pkl\", \"w\") )\n",
    "pickle.dump(data_dict, open(\"my_dataset.pkl\", \"w\") )\n",
    "pickle.dump(features_list, open(\"my_feature_list.pkl\", \"w\") )\n",
    "                    \n",
    "#dump_classifier_and_data(clf_dump, my_dataset, features_list)"
   ]
  },
  {
   "cell_type": "markdown",
   "metadata": {},
   "source": [
    "### List of Resources"
   ]
  },
  {
   "cell_type": "markdown",
   "metadata": {},
   "source": [
    "\n",
    "<p>\n",
    "<div style=\"background-color:#d9d9d9\">sklearn documentation: http://scikit-learn.org/stable/index.html\n",
    "pandas documentation: http://pandas.pydata.org\n",
    "Jason Brownlee on Machine Learning Process: http://machinelearningmastery.com</div>\n"
   ]
  }
 ],
 "metadata": {
  "anaconda-cloud": {},
  "kernelspec": {
   "display_name": "Python [default]",
   "language": "python",
   "name": "python2"
  },
  "language_info": {
   "codemirror_mode": {
    "name": "ipython",
    "version": 2
   },
   "file_extension": ".py",
   "mimetype": "text/x-python",
   "name": "python",
   "nbconvert_exporter": "python",
   "pygments_lexer": "ipython2",
   "version": "2.7.12"
  }
 },
 "nbformat": 4,
 "nbformat_minor": 1
}
